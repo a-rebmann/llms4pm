{
 "cells": [
  {
   "cell_type": "markdown",
   "metadata": {},
   "source": [
    "# How to use LLMs to solve the tasks\n",
    "\n",
    "This notebook exemplifies how to use LLMs to solve individual instances of the five semantics-aware process mining tasks \n",
    "\n",
    "#### Prerequisites:\n",
    "- You need a HuggingFace account (see [here](huggingface.com)) \n",
    "- Generate an access token [here](https://huggingface.co/settings/tokens/new?tokenType=fineGrained)\n",
    "- create a .env file in the root of this project and add the HF_TOKEN token (see env.example for an example)"
   ]
  },
  {
   "cell_type": "code",
   "execution_count": null,
   "metadata": {},
   "outputs": [],
   "source": [
    "from dotenv import load_dotenv\n",
    "from evaluate_llm import generate_pt_discovery_output, generate_dfg_discovery_output, generate_activity_output, generate_binary_output, get_act_list\n",
    "from llm.prompts import general_task_prompt_order, general_task_prompt, next_activity_prompt, dfg_task_prompt, pt_task_prompt\n",
    "from evaluate_llm import get_model_and_tokenizer\n",
    "\n",
    "load_dotenv()"
   ]
  },
  {
   "cell_type": "code",
   "execution_count": null,
   "metadata": {},
   "outputs": [],
   "source": [
    "# specify the model and device to use\n",
    "MODEL = \"meta-llama/Meta-Llama-3-8B-Instruct\"  # replace with your model name; or if you want to use a local model, specify the path to the model\n",
    "DEVICE = \"cpu\"  # replace with \"cuda\" if you have a GPU\n",
    "FINE_TUNED = False  # set to True if you are using a fine-tuned model stored in a local directory or on Hugging Face Hub\n",
    "\n",
    "model, tokenizer = get_model_and_tokenizer(MODEL, device=DEVICE)"
   ]
  },
  {
   "cell_type": "markdown",
   "metadata": {},
   "source": [
    "## T-SAD"
   ]
  },
  {
   "cell_type": "markdown",
   "metadata": {},
   "source": [
    "#### Input\n",
    "\n",
    "The input to T-SAD is a trace and a set of possible activities.\n",
    "\n",
    "Execute the following cell to build a prompt for one task instance."
   ]
  },
  {
   "cell_type": "code",
   "execution_count": null,
   "metadata": {},
   "outputs": [],
   "source": [
    "# define input\n",
    "trace = [\"create purchase order\", \"approve purchase order\", \"create invoice\", \"approve invoice\", \"pay invoice\"]\n",
    "activities = [\"create purchase order\", \"approve purchase order\", \"create invoice\", \"approve invoice\", \"reject invoice\", \"pay invoice\"]\n",
    "\n",
    "\n",
    "# get the prompt for the task\n",
    "if not FINE_TUNED:\n",
    "    t_sad_prompt = general_task_prompt + \"List of process activities: \" + str(activities) + \"\\n\" + \"Trace:\" + str(trace) + \"\\nValid:\"\n",
    "else:\n",
    "    t_sad_prompt =  \"List of process activities: \" + str(activities) + \"\\n\" + \"Trace:\" + str(trace) + \"\\nValid:\"\n",
    "print(t_sad_prompt)"
   ]
  },
  {
   "cell_type": "markdown",
   "metadata": {},
   "source": [
    "#### Output\n",
    "\n",
    "The follwing cell calls the LLM with the respective task instance and returns either True if it considers the trace valid or false if it considers the trace invalid."
   ]
  },
  {
   "cell_type": "code",
   "execution_count": null,
   "metadata": {},
   "outputs": [],
   "source": [
    "generate_binary_output(\n",
    "    model_name=MODEL,\n",
    "    device=DEVICE,\n",
    "    model=model,\n",
    "    tokenizer=tokenizer,\n",
    "    prompt=t_sad_prompt\n",
    ")"
   ]
  },
  {
   "cell_type": "markdown",
   "metadata": {},
   "source": [
    "## A-SAD"
   ]
  },
  {
   "cell_type": "markdown",
   "metadata": {},
   "source": [
    "#### Input\n",
    "\n",
    "The input to A-SAD is a pair of activities and a set of possible activities.\n",
    "\n",
    "Execute the following cell to build a prompt for one task instance."
   ]
  },
  {
   "cell_type": "code",
   "execution_count": null,
   "metadata": {},
   "outputs": [],
   "source": [
    "pair = (\"reject purchase order\", \"pay invoice\")\n",
    "activities = [\"create purchase order\", \"approve purchase order\", \"create invoice\", \"approve invoice\", \"reject invoice\", \"pay invoice\"]\n",
    "# get the prompt for the task\n",
    "if not FINE_TUNED:\n",
    "    a_sad_prompt = general_task_prompt_order + \" List of process activities: \" + str(activities) + \"\\n\" + \"1. Activity:\" + str(pair[0]) + \"\\n\"  + \"2. Activity:\" + str(pair[1]) + \"\\nValid:\"\n",
    "else:\n",
    "    a_sad_prompt = \"List of process activities: \" + str(activities) + \"\\n\" + \"1. Activity:\" + str(pair[0]) + \"\\n\"  + \"2. Activity:\" + str(pair[1]) + \"\\nValid:\"\n",
    "print(a_sad_prompt)"
   ]
  },
  {
   "cell_type": "markdown",
   "metadata": {},
   "source": [
    "#### Output\n",
    "\n",
    "The follwing cell calls the LLM with the respective task instance and returns either True if it considers th pair valid or false if it considers the pair invalid."
   ]
  },
  {
   "cell_type": "code",
   "execution_count": null,
   "metadata": {},
   "outputs": [],
   "source": [
    "generate_binary_output(\n",
    "    model_name=MODEL,\n",
    "    device=DEVICE,\n",
    "    model=model,\n",
    "    tokenizer=tokenizer,\n",
    "    prompt=a_sad_prompt\n",
    ")"
   ]
  },
  {
   "cell_type": "markdown",
   "metadata": {},
   "source": [
    "## S-NAP"
   ]
  },
  {
   "cell_type": "markdown",
   "metadata": {},
   "source": [
    "#### Input\n",
    "\n",
    "The input to S-NAP is a trace-prefix and a set of possible activities.\n",
    "\n",
    "Execute the following cell to build a prompt for one task instance."
   ]
  },
  {
   "cell_type": "code",
   "execution_count": null,
   "metadata": {},
   "outputs": [],
   "source": [
    "prefix = [\"create purchase order\", \"approve purchase order\"]\n",
    "activities = [\"create purchase order\", \"approve purchase order\", \"create invoice\", \"approve invoice\", \"reject invoice\", \"pay invoice\"]\n",
    "\n",
    "# get the prompt for the task\n",
    "if not FINE_TUNED:\n",
    "    s_nap_prompt = dfg_task_prompt + \"List of process activities: \" + str(activities) + \"\\n\" + \"Sequence of activities:\" + str(prefix) + \"\\nAnswer:\"\n",
    "else:\n",
    "    s_nap_prompt = \"List of process activities: \" + str(activities) + \"\\n\" + \"Sequence of activities:\" + str(prefix) + \"\\nAnswer:\"\n",
    "print(s_nap_prompt)"
   ]
  },
  {
   "cell_type": "markdown",
   "metadata": {},
   "source": [
    "#### Output\n",
    "\n",
    "The follwing cell calls the LLM with the respective task instance and returns the next activity that continues the prefix."
   ]
  },
  {
   "cell_type": "code",
   "execution_count": null,
   "metadata": {},
   "outputs": [],
   "source": [
    "generate_activity_output(\n",
    "    model_name=MODEL,\n",
    "    device=DEVICE,\n",
    "    model=model,\n",
    "    tokenizer=tokenizer,\n",
    "    prompt=s_nap_prompt,\n",
    "    activities=activities\n",
    ")"
   ]
  },
  {
   "cell_type": "markdown",
   "metadata": {},
   "source": [
    "## S-DFD"
   ]
  },
  {
   "cell_type": "markdown",
   "metadata": {},
   "source": [
    "#### Input\n",
    "\n",
    "The input to S-DFD is a set of possible activities.\n",
    "\n",
    "Execute the following cell to build a prompt for one task instance."
   ]
  },
  {
   "cell_type": "code",
   "execution_count": null,
   "metadata": {},
   "outputs": [],
   "source": [
    "activities = [\"create purchase order\", \"approve purchase order\", \"create invoice\", \"approve invoice\", \"reject invoice\" ,\"pay invoice\"]\n",
    "\n",
    "# get the prompt for the task\n",
    "if not FINE_TUNED:\n",
    "    s_sfd_prompt = dfg_task_prompt + \"List of process activities: \" + str(activities) + \"\\nPairs of activities:\"\n",
    "else:   \n",
    "    s_sfd_prompt = \"List of process activities: \" + str(activities) + \"\\nPairs of activities:\"\n",
    "print(s_sfd_prompt)"
   ]
  },
  {
   "cell_type": "markdown",
   "metadata": {},
   "source": [
    "#### Output\n",
    "\n",
    "The follwing cell calls the LLM with the respective task instance and returns the directly-follows pairs for the activities."
   ]
  },
  {
   "cell_type": "code",
   "execution_count": null,
   "metadata": {},
   "outputs": [],
   "source": [
    "generate_dfg_discovery_output(\n",
    "    model_name=MODEL,\n",
    "    device=DEVICE,\n",
    "    model=model,\n",
    "    tokenizer=tokenizer,\n",
    "    prompt=s_sfd_prompt\n",
    ")"
   ]
  },
  {
   "cell_type": "markdown",
   "metadata": {},
   "source": [
    "## S-PTD"
   ]
  },
  {
   "cell_type": "markdown",
   "metadata": {},
   "source": [
    "#### Input\n",
    "\n",
    "The input to S-PTD is a set of possible activities.\n",
    "\n",
    "Execute the following cell to build a prompt for one task instance."
   ]
  },
  {
   "cell_type": "code",
   "execution_count": null,
   "metadata": {},
   "outputs": [],
   "source": [
    "activities = [\"create purchase order\", \"approve purchase order\", \"create invoice\", \"approve invoice\", \"reject invoice\" \"pay invoice\"]\n",
    "\n",
    "# get the prompt for the task\n",
    "if not FINE_TUNED:\n",
    "    s_ptd_prompt = pt_task_prompt + \"List of process activities: \" + str(activities) + \"\\nProcess tree:\"\n",
    "else:\n",
    "    s_ptd_prompt = \"List of process activities: \" + str(activities) + \"\\nProcess tree:\"\n",
    "print(s_ptd_prompt)"
   ]
  },
  {
   "cell_type": "markdown",
   "metadata": {},
   "source": [
    "#### Output\n",
    "\n",
    "The follwing cell calls the LLM with the respective task instance and returns a process tree representation based on the activities."
   ]
  },
  {
   "cell_type": "code",
   "execution_count": null,
   "metadata": {},
   "outputs": [],
   "source": [
    "generate_pt_discovery_output(\n",
    "    model_name=MODEL,\n",
    "    device=DEVICE,\n",
    "    model=model,\n",
    "    tokenizer=tokenizer,\n",
    "    prompt=s_ptd_prompt\n",
    ")"
   ]
  }
 ],
 "metadata": {
  "kernelspec": {
   "display_name": ".venv",
   "language": "python",
   "name": "python3"
  },
  "language_info": {
   "codemirror_mode": {
    "name": "ipython",
    "version": 3
   },
   "file_extension": ".py",
   "mimetype": "text/x-python",
   "name": "python",
   "nbconvert_exporter": "python",
   "pygments_lexer": "ipython3",
   "version": "3.12.4"
  }
 },
 "nbformat": 4,
 "nbformat_minor": 2
}
