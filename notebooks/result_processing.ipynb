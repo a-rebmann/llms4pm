{
 "cells": [
  {
   "cell_type": "code",
   "execution_count": 23,
   "id": "initial_id",
   "metadata": {
    "collapsed": true,
    "ExecuteTime": {
     "end_time": "2024-04-12T11:26:45.123445Z",
     "start_time": "2024-04-12T11:26:45.095589Z"
    }
   },
   "outputs": [
    {
     "data": {
      "text/plain": "   Unnamed: 0                          model_id  \\\n0           0  e8990a10f516495e89a1eabf9627b9e9   \n\n                        revision_id  \\\n0  295ab34872b6424aad0b4633abb621a9   \n\n                                               noisy  \\\n0  [['Add personal data', 'Select necessary work ...   \n\n                                              labels  \\\n0  {0: [(1, ['Set up access rights, hardware and ...   \n\n                                  detected_anomalies  precision_out_of_order  \\\n0  {0: [(0, (\"'Select necessary work equipment\", ...                     0.0   \n\n   recall_out_of_order  f_1_out_of_order  precision_missing  recall_missing  \\\n0                  0.0               0.0                0.0             0.0   \n\n   f_1_missing  precision_superfluous  recall_superfluous  f_1_superfluous  \n0          0.0                    0.0                 0.0              0.0  ",
      "text/html": "<div>\n<style scoped>\n    .dataframe tbody tr th:only-of-type {\n        vertical-align: middle;\n    }\n\n    .dataframe tbody tr th {\n        vertical-align: top;\n    }\n\n    .dataframe thead th {\n        text-align: right;\n    }\n</style>\n<table border=\"1\" class=\"dataframe\">\n  <thead>\n    <tr style=\"text-align: right;\">\n      <th></th>\n      <th>Unnamed: 0</th>\n      <th>model_id</th>\n      <th>revision_id</th>\n      <th>noisy</th>\n      <th>labels</th>\n      <th>detected_anomalies</th>\n      <th>precision_out_of_order</th>\n      <th>recall_out_of_order</th>\n      <th>f_1_out_of_order</th>\n      <th>precision_missing</th>\n      <th>recall_missing</th>\n      <th>f_1_missing</th>\n      <th>precision_superfluous</th>\n      <th>recall_superfluous</th>\n      <th>f_1_superfluous</th>\n    </tr>\n  </thead>\n  <tbody>\n    <tr>\n      <th>0</th>\n      <td>0</td>\n      <td>e8990a10f516495e89a1eabf9627b9e9</td>\n      <td>295ab34872b6424aad0b4633abb621a9</td>\n      <td>[['Add personal data', 'Select necessary work ...</td>\n      <td>{0: [(1, ['Set up access rights, hardware and ...</td>\n      <td>{0: [(0, (\"'Select necessary work equipment\", ...</td>\n      <td>0.0</td>\n      <td>0.0</td>\n      <td>0.0</td>\n      <td>0.0</td>\n      <td>0.0</td>\n      <td>0.0</td>\n      <td>0.0</td>\n      <td>0.0</td>\n      <td>0.0</td>\n    </tr>\n  </tbody>\n</table>\n</div>"
     },
     "execution_count": 23,
     "metadata": {},
     "output_type": "execute_result"
    }
   ],
   "source": [
    "from const import DATA_RESULTS, GPT_MODEL\n",
    "import pandas as pd\n",
    "\n",
    "MODEL_ID =\"examples_cot_\" + GPT_MODEL\n",
    "file_path = DATA_RESULTS / (MODEL_ID + \"_evaluated.csv\")\n",
    "\n",
    "df = pd.read_csv(file_path)\n",
    "df\n",
    "#df[[\"model_id\", \"precision_out_of_order\", \"recall_out_of_order\", \"f_1_out_of_order\"]]"
   ]
  },
  {
   "cell_type": "code",
   "outputs": [
    {
     "name": "stdout",
     "output_type": "stream",
     "text": [
      "Trace: 0 ['Add personal data', 'Select necessary work equipment', 'Set up access rights, hardware and software', 'Procure work equipment']\n",
      "Anomalies: []\n",
      "Detected Anomalies: [(0, (\"'Select necessary work equipment\", 'Select necessary work equipment')), (0, (\"'Set up access rights, hardware and software\", 'Set up access rights, hardware and software'))]\n",
      "\n",
      "Trace: 1 ['Add personal data', 'Select necessary work equipment', 'Set up access rights, hardware and software', 'Procure work equipment']\n",
      "Anomalies: []\n",
      "Detected Anomalies: [(0, (\"'Select necessary work equipment\", 'Select necessary work equipment')), (0, (\"'Complete delivery\", 'Complete delivery'))]\n",
      "\n",
      "Trace: 2 ['Select necessary work equipment', 'Add personal data', 'Select necessary work equipment', 'Procure work equipment', 'Set up access rights, hardware and software', 'Set up access rights, hardware and software']\n",
      "Anomalies: [(1, ['Select necessary work equipment']), (1, ['Set up access rights, hardware and software'])]\n",
      "Detected Anomalies: [(0, (\"'Select necessary work equipment\", 'Select necessary work equipment')), (0, (\"'Set up access rights, hardware and software\", 'Set up access rights, hardware and software'))]\n",
      "\n",
      "Trace: 3 ['Procure work equipment', 'Set up access rights, hardware and software', 'Add personal data']\n",
      "Anomalies: [(2, ['Select necessary work equipment']), (1, ['Procure work equipment']), (0, ['Set up access rights, hardware and software', 'Add personal data'])]\n",
      "Detected Anomalies: [(0, (\"'Set up access rights, hardware and software\", 'Set up access rights, hardware and software'))]\n",
      "\n",
      "Trace: 4 ['Add personal data', 'Select necessary work equipment', 'Set up access rights, hardware and software', 'Procure work equipment']\n",
      "Anomalies: []\n",
      "Detected Anomalies: [(0, (\"'Set up access rights, hardware and software\", 'Set up access rights, hardware and software')), (0, (\"'Procure work equipment\", 'Procure work equipment'))]\n",
      "\n",
      "Trace: 5 ['Add personal data', 'Select necessary work equipment']\n",
      "Anomalies: [(0, ['Set up access rights, hardware and software', 'Select necessary work equipment']), (0, ['Procure work equipment', 'Select necessary work equipment']), (2, ['Procure work equipment']), (2, ['Set up access rights, hardware and software'])]\n",
      "Detected Anomalies: [(0, (\"'Select necessary work equipment\", 'Select necessary work equipment'))]\n",
      "\n",
      "Trace: 6 ['Add personal data', 'Select necessary work equipment', 'Set up access rights, hardware and software', 'Procure work equipment']\n",
      "Anomalies: []\n",
      "Detected Anomalies: [(0, (\"'Set up access rights, hardware and software\", 'Set up access rights, hardware and software'))]\n",
      "\n",
      "Trace: 7 ['Add personal data', 'Select necessary work equipment', 'Procure work equipment', 'Set up access rights, hardware and software']\n",
      "Anomalies: []\n",
      "Detected Anomalies: [(0, (\"'Procure work equipment\", 'Procure work equipment')), (0, (\"'Set up access rights, hardware and software\", 'Set up access rights, hardware and software'))]\n",
      "\n",
      "Trace: 8 ['Add personal data', 'Select necessary work equipment', 'Add personal data', 'Set up access rights, hardware and software']\n",
      "Anomalies: [(2, ['Procure work equipment']), (1, ['Add personal data'])]\n",
      "Detected Anomalies: [(0, (\"'Select necessary work equipment\", 'Select necessary work equipment')), (0, (\"'Set up access rights, hardware and software\", 'Set up access rights, hardware and software'))]\n",
      "\n",
      "Trace: 9 ['Add personal data', 'Set up access rights, hardware and software', 'Procure work equipment']\n",
      "Anomalies: [(0, ['Set up access rights, hardware and software', 'Select necessary work equipment']), (2, ['Select necessary work equipment'])]\n",
      "Detected Anomalies: [(0, (\"'Add personal data\", 'Add personal data'))]\n"
     ]
    }
   ],
   "source": [
    "from llms4pm.const import EVAL_PATH\n",
    "\n",
    "res_path =  EVAL_PATH + MODEL_ID + \".csv\"\n",
    "res_df = pd.read_csv(res_path)\n",
    "# get the first row and list labels and detected_anomalies\n",
    "traces = eval(res_df[\"noisy\"].iloc[0])\n",
    "labels = eval(res_df[\"labels\"].iloc[0])\n",
    "detected_anomalies = eval(res_df[\"detected_anomalies\"].iloc[0])\n",
    "# print the labels and detected anomalies row by row\n",
    "for trace, anomalies in labels.items():\n",
    "    print(f\"Trace: {trace}\", traces[trace])\n",
    "    print(f\"Anomalies: {anomalies}\")\n",
    "    print(f\"Detected Anomalies: {detected_anomalies[trace]}\")\n",
    "    print(\"\")"
   ],
   "metadata": {
    "collapsed": false,
    "ExecuteTime": {
     "end_time": "2024-04-12T11:26:47.468538Z",
     "start_time": "2024-04-12T11:26:47.455132Z"
    }
   },
   "id": "2683eed69babd9cc",
   "execution_count": 24
  },
  {
   "cell_type": "code",
   "outputs": [],
   "source": [],
   "metadata": {
    "collapsed": false
   },
   "id": "a9f55e8039e80671"
  }
 ],
 "metadata": {
  "kernelspec": {
   "display_name": "Python 3",
   "language": "python",
   "name": "python3"
  },
  "language_info": {
   "codemirror_mode": {
    "name": "ipython",
    "version": 2
   },
   "file_extension": ".py",
   "mimetype": "text/x-python",
   "name": "python",
   "nbconvert_exporter": "python",
   "pygments_lexer": "ipython2",
   "version": "2.7.6"
  }
 },
 "nbformat": 4,
 "nbformat_minor": 5
}
