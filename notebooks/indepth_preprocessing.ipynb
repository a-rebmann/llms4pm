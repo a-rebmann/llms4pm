{
 "cells": [
  {
   "cell_type": "code",
   "execution_count": null,
   "id": "153aa45e-cef4-4cba-b723-906ce37bc5d6",
   "metadata": {},
   "outputs": [],
   "source": [
    "import pandas as pd\n",
    "import pickle\n",
    "DATA_PATH = \"../eval/\" # Adjust this to your relative path to the datasets\n",
    "EXAMPLE_PATH = DATA_PATH + \"examples/\"\n",
    "def load_pkl(path):\n",
    "    with open(path, \"rb\") as file:\n",
    "        return pickle.load(file)"
   ]
  },
  {
   "cell_type": "code",
   "execution_count": null,
   "id": "46e81bd3-d085-4564-87b3-770488f84ec9",
   "metadata": {},
   "outputs": [],
   "source": [
    "from datasets.arrow_dataset import Dataset"
   ]
  },
  {
   "cell_type": "code",
   "execution_count": null,
   "id": "49a007e9-d69b-4a7f-8f75-8d942b1b79e6",
   "metadata": {},
   "outputs": [],
   "source": [
    "def split_by_model(\n",
    "    df, split_sizes: list[float] = [0.2, 0.1], random_state=4\n",
    ") -> tuple[pd.DataFrame, pd.DataFrame, pd.DataFrame]:\n",
    "    df[\"id\"] = df[\"model_id\"].astype(str) + \"_\" + df[\"revision_id\"].astype(str)\n",
    "    # model_ids = df[\"id\"].unique()\n",
    "    # train_val_ids, test_ids = train_test_split(\n",
    "    #     model_ids, test_size=split_sizes[-1], random_state=random_state\n",
    "    # )\n",
    "    # train_ids, val_ids = train_test_split(\n",
    "    #     train_val_ids, test_size=split_sizes[-2], random_state=random_state\n",
    "    # )\n",
    "    df[\"num_unique_activities\"] = df[\"unique_activities\"].apply(len)\n",
    "    df = df[df[\"num_unique_activities\"] > 1]\n",
    "    with open(\n",
    "        DATA_PATH + \"eval/train_val_test.pkl\", \"rb\"\n",
    "    ) as file:\n",
    "        train_ids, val_ids, test_ids = pickle.load(file)\n",
    "    train_df = df[df[\"id\"].isin(train_ids)]\n",
    "    val_df = df[df[\"id\"].isin(val_ids)]\n",
    "    test_df = df[df[\"id\"].isin(test_ids)]\n",
    "    return train_df, val_df, test_df"
   ]
  },
  {
   "cell_type": "code",
   "execution_count": null,
   "id": "8252c650-222f-4c66-a8f2-33b94dec96c7",
   "metadata": {},
   "outputs": [],
   "source": [
    "def remove_duplicates(pair_df):\n",
    "    columns = [\"revision_id\", \"model_id\", \"unique_activities\", \"labels\"]\n",
    "    if \"trace\" in pair_df.columns:\n",
    "        columns.append(\"trace\")\n",
    "    if \"eventually_follows\" in pair_df.columns:\n",
    "        columns.append(\"eventually_follows\")\n",
    "    if \"prefix\" in pair_df.columns:\n",
    "        columns.append(\"prefix\")\n",
    "    pair_df = pair_df.drop_duplicates(subset=columns)\n",
    "    return pair_df\n"
   ]
  },
  {
   "cell_type": "code",
   "execution_count": null,
   "id": "6ab0b49a-daf9-4c87-b9f0-e400158ce945",
   "metadata": {},
   "outputs": [],
   "source": [
    "#T_SAD_df = pd.read_pickle(DATA_PATH + \"eval/eval_train_data_traces_balanced.pkl\")\n",
    "T_SAD_df: pd.DataFrame = load_pkl(DATA_PATH + \"eval/eval_train_data_traces_balanced.pkl\")\n",
    "A_SAD_df = pd.read_pickle(DATA_PATH + \"eval/eval_train_data_pairs_balanced.pkl\")\n",
    "S_NAP_df = pd.read_pickle(DATA_PATH + \"eval/eval_train_prefix_data.pkl\")"
   ]
  },
  {
   "cell_type": "code",
   "execution_count": null,
   "id": "60ccd88f-24c2-434c-88d9-fbb273e91d9f",
   "metadata": {},
   "outputs": [],
   "source": [
    "def setify(x: str):\n",
    "    set_: set[str] = eval(x)\n",
    "    assert isinstance(set_, set), f\"Conversion failed for {x}\"\n",
    "    return set_"
   ]
  },
  {
   "cell_type": "code",
   "execution_count": null,
   "id": "0c581e33-2899-4868-9309-c8292e6b970b",
   "metadata": {},
   "outputs": [],
   "source": [
    "T_SAD_df[\"labels\"] = ~(T_SAD_df.apply(lambda x: len(x[\"label\"]) > 0, axis=1))\n",
    "T_SAD_df.trace = T_SAD_df.trace.apply(lambda x: tuple(x))\n",
    "T_SAD_df = remove_duplicates(T_SAD_df)\n",
    "T_SAD_df.trace = T_SAD_df.trace.apply(lambda x: tuple(x))\n",
    "T_SAD_df.unique_activities = T_SAD_df.unique_activities.apply(setify)\n",
    "columns = [\"model_id\", \"revision_id\", \"unique_activities\", \"trace\", \"labels\"]\n",
    "T_SAD_df = T_SAD_df.loc[:, columns]\n",
    "train, val, test = split_by_model(T_SAD_df)"
   ]
  },
  {
   "cell_type": "code",
   "execution_count": null,
   "id": "3e480efb-51ab-4156-8f9c-fd5389f65c04",
   "metadata": {},
   "outputs": [],
   "source": [
    "test = test.reset_index()"
   ]
  },
  {
   "cell_type": "code",
   "execution_count": null,
   "id": "04be50d5-8efe-4b3f-b6cf-dae853f13496",
   "metadata": {},
   "outputs": [],
   "source": [
    "T_SAD_examples_llama = pd.read_csv(EXAMPLE_PATH + \"llama/dataset=test_trace_epoch=1.csv\")\n",
    "T_SAD_examples_roberta = pd.read_csv(EXAMPLE_PATH + \"roberta/dataset=test_trace_epoch=10.csv\")"
   ]
  },
  {
   "cell_type": "code",
   "execution_count": null,
   "id": "30b7ae4a-c02f-474a-9179-1eee77e9679a",
   "metadata": {},
   "outputs": [],
   "source": [
    "T_SAD_examples_llama.rename(columns={'prediction': 'pred_llama', 'labels':'labels_llama'}, inplace=True)\n",
    "T_SAD_examples_roberta.rename(columns={'prediction': 'pred_roberta', 'labels':'labels_roberta'}, inplace=True)"
   ]
  },
  {
   "cell_type": "code",
   "execution_count": null,
   "id": "0260071e-dda8-4f78-be37-9fc21665a6f8",
   "metadata": {},
   "outputs": [],
   "source": [
    "merged_df = T_SAD_examples_llama.merge(T_SAD_examples_roberta, on='ids', how='inner')\n",
    "filtered_df = merged_df[(merged_df[\"pred_llama\"]!=merged_df[\"labels_llama\"]) & (merged_df[\"pred_roberta\"]!=merged_df[\"labels_llama\"])]\n",
    "indices = list(filtered_df.index.values)"
   ]
  },
  {
   "cell_type": "code",
   "execution_count": null,
   "id": "38b87d47-2420-4b46-ad88-cf942f754733",
   "metadata": {},
   "outputs": [],
   "source": [
    "filtered_test_df = test.iloc[indices]"
   ]
  },
  {
   "cell_type": "code",
   "execution_count": null,
   "id": "ed6fc945-691a-4022-872d-7c2c4668530f",
   "metadata": {},
   "outputs": [],
   "source": [
    "filtered_test_df"
   ]
  },
  {
   "cell_type": "code",
   "execution_count": null,
   "id": "eba8fc16-d4f7-48bb-8ccb-cbf1aa4fa9da",
   "metadata": {},
   "outputs": [],
   "source": [
    "filtered_test_df.to_csv(EXAMPLE_PATH+\"trace_llama_wrong_roberta_wrong.csv\")"
   ]
  },
  {
   "cell_type": "code",
   "execution_count": null,
   "id": "f276e19b-3802-48f8-b781-d1a1060eba55",
   "metadata": {},
   "outputs": [],
   "source": []
  }
 ],
 "metadata": {
  "kernelspec": {
   "display_name": "Python 3 (ipykernel)",
   "language": "python",
   "name": "python3"
  },
  "language_info": {
   "codemirror_mode": {
    "name": "ipython",
    "version": 3
   },
   "file_extension": ".py",
   "mimetype": "text/x-python",
   "name": "python",
   "nbconvert_exporter": "python",
   "pygments_lexer": "ipython3",
   "version": "3.9.18"
  }
 },
 "nbformat": 4,
 "nbformat_minor": 5
}
