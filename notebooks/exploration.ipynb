{
 "cells": [
  {
   "cell_type": "code",
   "execution_count": 1,
   "id": "initial_id",
   "metadata": {
    "ExecuteTime": {
     "end_time": "2024-04-19T08:07:03.279922Z",
     "start_time": "2024-04-19T08:07:02.352299Z"
    }
   },
   "outputs": [],
   "source": [
    "import pandas as pd\n",
    "\n",
    "DATA_PATH = \"../../data/\""
   ]
  },
  {
   "cell_type": "code",
   "outputs": [
    {
     "name": "stdout",
     "output_type": "stream",
     "text": [
      "16035\n"
     ]
    },
    {
     "data": {
      "text/plain": "       Unnamed: 0                          model_id  \\\n0               0  e8990a10f516495e89a1eabf9627b9e9   \n1               2  e89a9255406a491cab3bd827a043dd28   \n3               7  e89e0c0e06c440e2a006c32d1d25e3f7   \n5              11  e8a0fe270519408f9df49651977afc8e   \n6              13  e8a31cb70a6546b187326a111db648fe   \n...           ...                               ...   \n35906         821  1df3f01bbe4c49f69873f7e919730d53   \n35907         823  1df4da306db045a096218b856ab871f5   \n35911         841  1e05dda50a7a486dae44a03c47bc5ca4   \n35912         843  1e07277a2ff0486cba1cd100be7b4a59   \n35918         859  1e0d27c5c47f486f8b90cd517bf9449d   \n\n                            revision_id                        name  \\\n0      295ab34872b6424aad0b4633abb621a9         Employee Onboarding   \n1      dcc8dbe04d4347cd88c16bb77f77c843    Checkout Tianen Jane Doe   \n3      9a249351fb0f49dca3760032b9fdaea2                         Pay   \n5      390d8410e2774873ad1f502a776a859f                  Exercise 2   \n6      ae2e746b74834904bbb125067f4a4924                  Handle PDF   \n...                                 ...                         ...   \n35906  e661a64174bb40baa20f6378f759e096  Set up Quarantine Facility   \n35907  59e642b936454136bb096ef2ec3c6164          verification final   \n35911  5252af873a7e44b7aabbf20a773446cf                  Example 11   \n35912  92f009351a754acba9ae871f4a1f22c6                 XOR Gateway   \n35918  ae7a74f9ae4a4b5fad9399b3dc19a97b         HighLevelModel_AsIs   \n\n                                           string_traces  \\\n0      [['Add personal data', 'Select necessary work ...   \n1      [['Scan items and Identify Payment method', 'P...   \n3      [['Fill in bank transfer Info', 'Pay', 'Receiv...   \n5      [['Statement from the witness', 'statements re...   \n6      [['Download document', 'Sign document', 'Send ...   \n...                                                  ...   \n35906  [['Determine of Passengers', 'Set Up Beds', 'D...   \n35907  [['Perform academic verification', 'Subprocess...   \n35911  [['Simple risk assessment', 'Risk assessment '...   \n35912  [['Security Check', 'Passenger gets through Se...   \n35918  [['Create purchase request', 'Place purchase o...   \n\n                                                     dfg  \\\n0      [('Add personal data', 'Select necessary work ...   \n1      [('Scan items and Identify Payment method', 'P...   \n3      [('Fill in bank transfer Info', 'Pay'), ('Pay'...   \n5      [('Statement from the witness', 'statements re...   \n6      [('Download document', 'Sign document'), ('Sig...   \n...                                                  ...   \n35906  [('Determine of Passengers', 'Set Up Beds'), (...   \n35907  [('Perform academic verification', 'Subprocess...   \n35911  [('Simple risk assessment', 'Risk assessment '...   \n35912  [('Security Check', 'Passenger gets through Se...   \n35918  [('Create purchase request', 'Place purchase o...   \n\n                                                      pn  \\\n0      (places: [ 1, 2, 3, 4, 5, 6, 7, 8 ]\\ntransitio...   \n1      (places: [ 1, 2, 3, 4, 5, 6 ]\\ntransitions: [ ...   \n3      (places: [ 1, 2, 3, 4, 5, 6 ]\\ntransitions: [ ...   \n5      (places: [ 1, 2, 3 ]\\ntransitions: [ (4, 'Stat...   \n6      (places: [ 1, 2, 3, 4 ]\\ntransitions: [ (5, 'D...   \n...                                                  ...   \n35906  (places: [ 1, 2, 3, 4, 5, 6, 7, 8 ]\\ntransitio...   \n35907  (places: [ 1, 2, 3, 4, 5, 6, 7 ]\\ntransitions:...   \n35911  (places: [ 1, 2, 3, 4 ]\\ntransitions: [ (5, 'S...   \n35912  (places: [ 1, 2, 3, 4 ]\\ntransitions: [ (5, 'S...   \n35918  (places: [ 1, 2, 3, 4, 5 ]\\ntransitions: [ (6,...   \n\n                                                      pt  \\\n0      ->( 'Add personal data', 'Select necessary wor...   \n1      ->( 'Scan items and Identify Payment method', ...   \n3      ->( X( 'Fill in bank transfer Info', 'Fill in ...   \n5      ->( 'Statement from the witness', 'statements ...   \n6      ->( 'Download document', 'Sign document', 'Sen...   \n...                                                  ...   \n35906  ->( 'Determine of Passengers', +( 'Set Up Beds...   \n35907  ->( X( ->( 'Perform English language test veri...   \n35911  ->( 'Simple risk assessment', 'Risk assessment...   \n35912  ->( 'Security Check', X( 'Passenger fails Secu...   \n35918  ->( 'Create purchase request', 'Place purchase...   \n\n                                       unique_activities language  \\\n0      {'Add personal data', 'Set up access rights, h...       en   \n1      {'Bag items', 'Accept Cash', 'Process credit c...       en   \n3      {'Pay', 'Receive Receipt', 'Fill in Credit Car...       en   \n5      {'statements received', 'Statement from the wi...       en   \n6      {'Sign document', 'Send docments by post', 'Do...       en   \n...                                                  ...      ...   \n35906  {'Determine of Passengers', 'Develop Medical S...       en   \n35907  {'Subprocess (Academic transcript verification...       en   \n35911  {'Risk assessment ', 'Customer follow up', 'Si...       en   \n35912  {'Passenger gets through Security Check', 'Pas...       en   \n35918  {'Receive payment', 'Receive goods', 'Place pu...       en   \n\n                                                   noisy  \\\n0      {0: ['Add personal data', 'Select necessary wo...   \n1      {0: ['Process credit card', 'Bag items'], 1: [...   \n3      {0: ['Fill in bank transfer Info', 'Pay', 'Rec...   \n5      {0: ['statements received', 'Statement from th...   \n6      {0: ['Sign document', 'Download document', 'Se...   \n...                                                  ...   \n35906  {0: ['Determine of Passengers', 'Set Up Beds',...   \n35907  {0: ['Subprocess (Academic transcript verifica...   \n35911  {0: ['Simple risk assessment', 'Risk assessmen...   \n35912  {0: ['Passenger gets through Security Check', ...   \n35918  {0: ['Create purchase request', 'Receive goods...   \n\n                                                  labels  \n0      {0: [(1, ['Select necessary work equipment']),...  \n1      {0: [(2, ['Scan items and Identify Payment met...  \n3      {0: [], 1: [(0, ['Pay', 'Fill in Paypal Info']...  \n5      {0: [(1, ['statements received']), (0, ['state...  \n6      {0: [(0, ['Sign document', 'Download document'...  \n...                                                  ...  \n35906  {0: [(0, ['Notify Transport Coordinator', 'Dev...  \n35907  {0: [(0, ['Subprocess (Academic transcript ver...  \n35911  {0: [], 1: [(2, ['Risk assessment '])], 2: [(0...  \n35912  {0: [(1, ['Passenger gets through Security Che...  \n35918  {0: [(1, ['Receive goods']), (0, ['Receive goo...  \n\n[16035 rows x 12 columns]",
      "text/html": "<div>\n<style scoped>\n    .dataframe tbody tr th:only-of-type {\n        vertical-align: middle;\n    }\n\n    .dataframe tbody tr th {\n        vertical-align: top;\n    }\n\n    .dataframe thead th {\n        text-align: right;\n    }\n</style>\n<table border=\"1\" class=\"dataframe\">\n  <thead>\n    <tr style=\"text-align: right;\">\n      <th></th>\n      <th>Unnamed: 0</th>\n      <th>model_id</th>\n      <th>revision_id</th>\n      <th>name</th>\n      <th>string_traces</th>\n      <th>dfg</th>\n      <th>pn</th>\n      <th>pt</th>\n      <th>unique_activities</th>\n      <th>language</th>\n      <th>noisy</th>\n      <th>labels</th>\n    </tr>\n  </thead>\n  <tbody>\n    <tr>\n      <th>0</th>\n      <td>0</td>\n      <td>e8990a10f516495e89a1eabf9627b9e9</td>\n      <td>295ab34872b6424aad0b4633abb621a9</td>\n      <td>Employee Onboarding</td>\n      <td>[['Add personal data', 'Select necessary work ...</td>\n      <td>[('Add personal data', 'Select necessary work ...</td>\n      <td>(places: [ 1, 2, 3, 4, 5, 6, 7, 8 ]\\ntransitio...</td>\n      <td>-&gt;( 'Add personal data', 'Select necessary wor...</td>\n      <td>{'Add personal data', 'Set up access rights, h...</td>\n      <td>en</td>\n      <td>{0: ['Add personal data', 'Select necessary wo...</td>\n      <td>{0: [(1, ['Select necessary work equipment']),...</td>\n    </tr>\n    <tr>\n      <th>1</th>\n      <td>2</td>\n      <td>e89a9255406a491cab3bd827a043dd28</td>\n      <td>dcc8dbe04d4347cd88c16bb77f77c843</td>\n      <td>Checkout Tianen Jane Doe</td>\n      <td>[['Scan items and Identify Payment method', 'P...</td>\n      <td>[('Scan items and Identify Payment method', 'P...</td>\n      <td>(places: [ 1, 2, 3, 4, 5, 6 ]\\ntransitions: [ ...</td>\n      <td>-&gt;( 'Scan items and Identify Payment method', ...</td>\n      <td>{'Bag items', 'Accept Cash', 'Process credit c...</td>\n      <td>en</td>\n      <td>{0: ['Process credit card', 'Bag items'], 1: [...</td>\n      <td>{0: [(2, ['Scan items and Identify Payment met...</td>\n    </tr>\n    <tr>\n      <th>3</th>\n      <td>7</td>\n      <td>e89e0c0e06c440e2a006c32d1d25e3f7</td>\n      <td>9a249351fb0f49dca3760032b9fdaea2</td>\n      <td>Pay</td>\n      <td>[['Fill in bank transfer Info', 'Pay', 'Receiv...</td>\n      <td>[('Fill in bank transfer Info', 'Pay'), ('Pay'...</td>\n      <td>(places: [ 1, 2, 3, 4, 5, 6 ]\\ntransitions: [ ...</td>\n      <td>-&gt;( X( 'Fill in bank transfer Info', 'Fill in ...</td>\n      <td>{'Pay', 'Receive Receipt', 'Fill in Credit Car...</td>\n      <td>en</td>\n      <td>{0: ['Fill in bank transfer Info', 'Pay', 'Rec...</td>\n      <td>{0: [], 1: [(0, ['Pay', 'Fill in Paypal Info']...</td>\n    </tr>\n    <tr>\n      <th>5</th>\n      <td>11</td>\n      <td>e8a0fe270519408f9df49651977afc8e</td>\n      <td>390d8410e2774873ad1f502a776a859f</td>\n      <td>Exercise 2</td>\n      <td>[['Statement from the witness', 'statements re...</td>\n      <td>[('Statement from the witness', 'statements re...</td>\n      <td>(places: [ 1, 2, 3 ]\\ntransitions: [ (4, 'Stat...</td>\n      <td>-&gt;( 'Statement from the witness', 'statements ...</td>\n      <td>{'statements received', 'Statement from the wi...</td>\n      <td>en</td>\n      <td>{0: ['statements received', 'Statement from th...</td>\n      <td>{0: [(1, ['statements received']), (0, ['state...</td>\n    </tr>\n    <tr>\n      <th>6</th>\n      <td>13</td>\n      <td>e8a31cb70a6546b187326a111db648fe</td>\n      <td>ae2e746b74834904bbb125067f4a4924</td>\n      <td>Handle PDF</td>\n      <td>[['Download document', 'Sign document', 'Send ...</td>\n      <td>[('Download document', 'Sign document'), ('Sig...</td>\n      <td>(places: [ 1, 2, 3, 4 ]\\ntransitions: [ (5, 'D...</td>\n      <td>-&gt;( 'Download document', 'Sign document', 'Sen...</td>\n      <td>{'Sign document', 'Send docments by post', 'Do...</td>\n      <td>en</td>\n      <td>{0: ['Sign document', 'Download document', 'Se...</td>\n      <td>{0: [(0, ['Sign document', 'Download document'...</td>\n    </tr>\n    <tr>\n      <th>...</th>\n      <td>...</td>\n      <td>...</td>\n      <td>...</td>\n      <td>...</td>\n      <td>...</td>\n      <td>...</td>\n      <td>...</td>\n      <td>...</td>\n      <td>...</td>\n      <td>...</td>\n      <td>...</td>\n      <td>...</td>\n    </tr>\n    <tr>\n      <th>35906</th>\n      <td>821</td>\n      <td>1df3f01bbe4c49f69873f7e919730d53</td>\n      <td>e661a64174bb40baa20f6378f759e096</td>\n      <td>Set up Quarantine Facility</td>\n      <td>[['Determine of Passengers', 'Set Up Beds', 'D...</td>\n      <td>[('Determine of Passengers', 'Set Up Beds'), (...</td>\n      <td>(places: [ 1, 2, 3, 4, 5, 6, 7, 8 ]\\ntransitio...</td>\n      <td>-&gt;( 'Determine of Passengers', +( 'Set Up Beds...</td>\n      <td>{'Determine of Passengers', 'Develop Medical S...</td>\n      <td>en</td>\n      <td>{0: ['Determine of Passengers', 'Set Up Beds',...</td>\n      <td>{0: [(0, ['Notify Transport Coordinator', 'Dev...</td>\n    </tr>\n    <tr>\n      <th>35907</th>\n      <td>823</td>\n      <td>1df4da306db045a096218b856ab871f5</td>\n      <td>59e642b936454136bb096ef2ec3c6164</td>\n      <td>verification final</td>\n      <td>[['Perform academic verification', 'Subprocess...</td>\n      <td>[('Perform academic verification', 'Subprocess...</td>\n      <td>(places: [ 1, 2, 3, 4, 5, 6, 7 ]\\ntransitions:...</td>\n      <td>-&gt;( X( -&gt;( 'Perform English language test veri...</td>\n      <td>{'Subprocess (Academic transcript verification...</td>\n      <td>en</td>\n      <td>{0: ['Subprocess (Academic transcript verifica...</td>\n      <td>{0: [(0, ['Subprocess (Academic transcript ver...</td>\n    </tr>\n    <tr>\n      <th>35911</th>\n      <td>841</td>\n      <td>1e05dda50a7a486dae44a03c47bc5ca4</td>\n      <td>5252af873a7e44b7aabbf20a773446cf</td>\n      <td>Example 11</td>\n      <td>[['Simple risk assessment', 'Risk assessment '...</td>\n      <td>[('Simple risk assessment', 'Risk assessment '...</td>\n      <td>(places: [ 1, 2, 3, 4 ]\\ntransitions: [ (5, 'S...</td>\n      <td>-&gt;( 'Simple risk assessment', 'Risk assessment...</td>\n      <td>{'Risk assessment ', 'Customer follow up', 'Si...</td>\n      <td>en</td>\n      <td>{0: ['Simple risk assessment', 'Risk assessmen...</td>\n      <td>{0: [], 1: [(2, ['Risk assessment '])], 2: [(0...</td>\n    </tr>\n    <tr>\n      <th>35912</th>\n      <td>843</td>\n      <td>1e07277a2ff0486cba1cd100be7b4a59</td>\n      <td>92f009351a754acba9ae871f4a1f22c6</td>\n      <td>XOR Gateway</td>\n      <td>[['Security Check', 'Passenger gets through Se...</td>\n      <td>[('Security Check', 'Passenger gets through Se...</td>\n      <td>(places: [ 1, 2, 3, 4 ]\\ntransitions: [ (5, 'S...</td>\n      <td>-&gt;( 'Security Check', X( 'Passenger fails Secu...</td>\n      <td>{'Passenger gets through Security Check', 'Pas...</td>\n      <td>en</td>\n      <td>{0: ['Passenger gets through Security Check', ...</td>\n      <td>{0: [(1, ['Passenger gets through Security Che...</td>\n    </tr>\n    <tr>\n      <th>35918</th>\n      <td>859</td>\n      <td>1e0d27c5c47f486f8b90cd517bf9449d</td>\n      <td>ae7a74f9ae4a4b5fad9399b3dc19a97b</td>\n      <td>HighLevelModel_AsIs</td>\n      <td>[['Create purchase request', 'Place purchase o...</td>\n      <td>[('Create purchase request', 'Place purchase o...</td>\n      <td>(places: [ 1, 2, 3, 4, 5 ]\\ntransitions: [ (6,...</td>\n      <td>-&gt;( 'Create purchase request', 'Place purchase...</td>\n      <td>{'Receive payment', 'Receive goods', 'Place pu...</td>\n      <td>en</td>\n      <td>{0: ['Create purchase request', 'Receive goods...</td>\n      <td>{0: [(1, ['Receive goods']), (0, ['Receive goo...</td>\n    </tr>\n  </tbody>\n</table>\n<p>16035 rows × 12 columns</p>\n</div>"
     },
     "execution_count": 2,
     "metadata": {},
     "output_type": "execute_result"
    }
   ],
   "source": [
    "model_df = pd.read_csv(DATA_PATH + \"eval_data.csv\")\n",
    "model_df = model_df[model_df[\"language\"]==\"en\"]\n",
    "model_df = model_df.drop_duplicates(subset=['unique_activities'])\n",
    "print(len(model_df))\n",
    "model_df"
   ],
   "metadata": {
    "collapsed": false,
    "ExecuteTime": {
     "end_time": "2024-04-19T08:07:07.056553Z",
     "start_time": "2024-04-19T08:07:03.283064Z"
    }
   },
   "id": "8f3e5171021080",
   "execution_count": 2
  },
  {
   "cell_type": "code",
   "execution_count": 3,
   "id": "d81af5c30c1e6281",
   "metadata": {
    "collapsed": false,
    "ExecuteTime": {
     "end_time": "2024-04-19T08:07:09.894121Z",
     "start_time": "2024-04-19T08:07:07.059505Z"
    }
   },
   "outputs": [
    {
     "name": "stdout",
     "output_type": "stream",
     "text": [
      "36068\n",
      "17334\n",
      "4305\n"
     ]
    },
    {
     "data": {
      "text/plain": "       Unnamed: 0                          model_id  \\\n25818         485  9f2ac8f95c0741c4b5fcb386f34dab6d   \n28485         591  ceed3bbf63c24f148ab99646053bfded   \n25208         617  c794b17a713241e79061f7f866d1543f   \n6273          935  2553f5e4bdff44d69fd6899a026fa8f5   \n32417         767  de808733732b4edd9012ed653d333fe8   \n...           ...                               ...   \n10954         364  384003432a6f45049c0837357cec03bb   \n61            115  e8eb635e49e5479e90edf272f8f3d113   \n9438          309  f9007b060ef44ef48aabd0919186ae5f   \n13926         709  86697a71e2ae4808a126450a8a18b7a1   \n19006         205  55c7fa6139a5455d967ec707ade91238   \n\n                            revision_id  \\\n25818  d2abb69d4b0c4cd8b8dbcf66acb95f3f   \n28485  78b014d679754c17b205ba8cf9ca70fc   \n25208  5d880c9b38f84468b9f31f3178b67f6b   \n6273   2a31a1a056bf4268bfbc4ed14e3d374b   \n32417  f028f77bf28945e5a13260bcc7decb5f   \n...                                 ...   \n10954  5f00293bb04d4861baeeb1ecfc9c9b9e   \n61     6e99d65f266642a7b31b2ae469e600cc   \n9438   cc22b1e6d68d4d9e99024f893d49869d   \n13926  ab5a62ace49645769c0695257b160320   \n19006  4468d5373cf440c6a40a5b1bf7af6b10   \n\n                                                    name  \\\n25818  SIMInvoice calculation after 2 years (Copy) (C...   \n28485                              week 3+4 exercise 2d)   \n25208                        LoanApplicationPRocessModel   \n6273                                            Diego422   \n32417                                            Holiday   \n...                                                  ...   \n10954                                      Process test    \n61                                        Drop Operation   \n9438                           Kategorisierung vornehmen   \n13926                                 User and functions   \n19006                         2a) Order printing process   \n\n                                           string_traces  \\\n25818  [['Overview info from database', 'Calculate to...   \n28485  [['Register claim', 'Check policy'], ['Registe...   \n25208  [['Prepare acceptance pack', 'send pack', 'Rec...   \n6273   [['Documents reception', 'enter data into the ...   \n32417  [['verify remaining holiday', 'send holiday re...   \n...                                                  ...   \n10954  [['Take article from storage', 'Pack Article',...   \n61     [['Check object Properties/ Characteristics', ...   \n9438   [['Main Category festlegen', 'Subcategory fest...   \n13926  [['Create terms and conditions', 'Updated term...   \n19006  [['Create list of respective orders', 'Print l...   \n\n                                                     dfg  \\\n25818  [('Overview info from database', 'Calculate to...   \n28485  [('Register claim', 'Check policy'), ('Check p...   \n25208  [('Prepare acceptance pack', 'send pack'), ('s...   \n6273   [('Documents reception', 'enter data into the ...   \n32417  [('verify remaining holiday', 'send holiday re...   \n...                                                  ...   \n10954  [('Take article from storage', 'Pack Article')...   \n61     [('Check object Properties/ Characteristics', ...   \n9438   [('Main Category festlegen', 'Subcategory fest...   \n13926  [('Create terms and conditions', 'Updated term...   \n19006  [('Create list of respective orders', 'Print l...   \n\n                                                      pn  \\\n25818  (places: [ 1, 2, 3, 4, 5, 6, 7, 8 ]\\ntransitio...   \n28485  (places: [ 1, 2, 3, 4, 5 ]\\ntransitions: [ (10...   \n25208  (places: [ 1, 2, 3, 4, 5, 6, 7, 8, 9 ]\\ntransi...   \n6273   (places: [ 1, 10, 11, 12, 2, 3, 4, 5, 6, 7, 8,...   \n32417  (places: [ 1, 10, 2, 3, 4, 5, 6, 7, 8, 9 ]\\ntr...   \n...                                                  ...   \n10954  (places: [ 1, 2, 3, 4 ]\\ntransitions: [ (5, 'T...   \n61     (places: [ 1, 2, 3, 4, 5 ]\\ntransitions: [ (10...   \n9438   (places: [ 1, 2, 3, 4, 5 ]\\ntransitions: [ (6,...   \n13926  (places: [ 1, 2, 3 ]\\ntransitions: [ (4, 'Crea...   \n19006  (places: [ 1, 2, 3 ]\\ntransitions: [ (4, 'Crea...   \n\n                                                      pt  \\\n25818  ->( 'Overview info from database', +( 'Calcula...   \n28485  ->( 'Register claim', X( 'Check policy', ->( '...   \n25208  ->( 'Prepare acceptance pack', 'send pack', 'R...   \n6273   ->( 'Documents reception', 'enter data into th...   \n32417  ->( 'verify remaining holiday', 'send holiday ...   \n...                                                  ...   \n10954  ->( 'Take article from storage', 'Pack Article...   \n61     ->( 'Check object Properties/ Characteristics'...   \n9438   ->( 'Main Category festlegen', 'Subcategory fe...   \n13926  ->( 'Create terms and conditions', 'Updated te...   \n19006  ->( 'Create list of respective orders', 'Print...   \n\n                                       unique_activities language  \\\n25818  {'Calculate total monthly fee', 'Calculate tot...       en   \n28485  {'Check damage', 'Check policy', 'Register cla...       en   \n25208  {'Notify applicant status', 'Receive signed do...       en   \n6273   {'request for mailing', 'print card', 'Documen...       en   \n32417  {'verify remaining holiday', 'send holiday req...       en   \n...                                                  ...      ...   \n10954  {'Send article', 'Pack Article', 'Take article...       en   \n61     {'Check object Properties/ Characteristics', '...       en   \n9438   {'Main Category festlegen', 'Subcategory festl...       en   \n13926  {'Create terms and conditions', 'Updated terms...       en   \n19006  {'Create list of respective orders', 'Print li...       en   \n\n                                                   noisy  \\\n25818  {0: ['Overview info from database', 'Calculate...   \n28485  {0: ['Check policy', 'Register claim', 'Check ...   \n25208  {0: ['Prepare acceptance pack', 'send pack', '...   \n6273   {0: ['Documents reception', 'enter data into t...   \n32417  {0: ['verify remaining holiday', 'send holiday...   \n...                                                  ...   \n10954  {0: ['Take article from storage', 'Pack Articl...   \n61     {0: ['Check object Properties/ Characteristics...   \n9438   {0: ['Main Category festlegen', 'Subcategory f...   \n13926  {1: ['Updated terms and conditions', 'Create t...   \n19006  {0: ['Print list', 'Create list of respective ...   \n\n                                                  labels  \n25818  {0: [], 1: [(0, ['Calculate total monthly fee ...  \n28485  {0: [(1, ['Check policy']), (0, ['Check policy...  \n25208  {0: [], 1: [(1, ['Cancel application']), (0, [...  \n6273   {0: [], 1: [], 2: [(0, ['Reception of informat...  \n32417  {0: [(1, ['Confirm holiday']), (0, ['Update pl...  \n...                                                  ...  \n10954  {0: [], 1: [], 2: [(0, ['Send article', 'Pack ...  \n61     {0: [], 1: [(2, ['Show Road/ Area Exceptions']...  \n9438   {0: [], 1: [(1, ['Main Category festlegen'])],...  \n13926  {0: [(2, ['Create terms and conditions'])], 1:...  \n19006  {0: [(0, ['Print list', 'Create list of respec...  \n\n[4811 rows x 12 columns]",
      "text/html": "<div>\n<style scoped>\n    .dataframe tbody tr th:only-of-type {\n        vertical-align: middle;\n    }\n\n    .dataframe tbody tr th {\n        vertical-align: top;\n    }\n\n    .dataframe thead th {\n        text-align: right;\n    }\n</style>\n<table border=\"1\" class=\"dataframe\">\n  <thead>\n    <tr style=\"text-align: right;\">\n      <th></th>\n      <th>Unnamed: 0</th>\n      <th>model_id</th>\n      <th>revision_id</th>\n      <th>name</th>\n      <th>string_traces</th>\n      <th>dfg</th>\n      <th>pn</th>\n      <th>pt</th>\n      <th>unique_activities</th>\n      <th>language</th>\n      <th>noisy</th>\n      <th>labels</th>\n    </tr>\n  </thead>\n  <tbody>\n    <tr>\n      <th>25818</th>\n      <td>485</td>\n      <td>9f2ac8f95c0741c4b5fcb386f34dab6d</td>\n      <td>d2abb69d4b0c4cd8b8dbcf66acb95f3f</td>\n      <td>SIMInvoice calculation after 2 years (Copy) (C...</td>\n      <td>[['Overview info from database', 'Calculate to...</td>\n      <td>[('Overview info from database', 'Calculate to...</td>\n      <td>(places: [ 1, 2, 3, 4, 5, 6, 7, 8 ]\\ntransitio...</td>\n      <td>-&gt;( 'Overview info from database', +( 'Calcula...</td>\n      <td>{'Calculate total monthly fee', 'Calculate tot...</td>\n      <td>en</td>\n      <td>{0: ['Overview info from database', 'Calculate...</td>\n      <td>{0: [], 1: [(0, ['Calculate total monthly fee ...</td>\n    </tr>\n    <tr>\n      <th>28485</th>\n      <td>591</td>\n      <td>ceed3bbf63c24f148ab99646053bfded</td>\n      <td>78b014d679754c17b205ba8cf9ca70fc</td>\n      <td>week 3+4 exercise 2d)</td>\n      <td>[['Register claim', 'Check policy'], ['Registe...</td>\n      <td>[('Register claim', 'Check policy'), ('Check p...</td>\n      <td>(places: [ 1, 2, 3, 4, 5 ]\\ntransitions: [ (10...</td>\n      <td>-&gt;( 'Register claim', X( 'Check policy', -&gt;( '...</td>\n      <td>{'Check damage', 'Check policy', 'Register cla...</td>\n      <td>en</td>\n      <td>{0: ['Check policy', 'Register claim', 'Check ...</td>\n      <td>{0: [(1, ['Check policy']), (0, ['Check policy...</td>\n    </tr>\n    <tr>\n      <th>25208</th>\n      <td>617</td>\n      <td>c794b17a713241e79061f7f866d1543f</td>\n      <td>5d880c9b38f84468b9f31f3178b67f6b</td>\n      <td>LoanApplicationPRocessModel</td>\n      <td>[['Prepare acceptance pack', 'send pack', 'Rec...</td>\n      <td>[('Prepare acceptance pack', 'send pack'), ('s...</td>\n      <td>(places: [ 1, 2, 3, 4, 5, 6, 7, 8, 9 ]\\ntransi...</td>\n      <td>-&gt;( 'Prepare acceptance pack', 'send pack', 'R...</td>\n      <td>{'Notify applicant status', 'Receive signed do...</td>\n      <td>en</td>\n      <td>{0: ['Prepare acceptance pack', 'send pack', '...</td>\n      <td>{0: [], 1: [(1, ['Cancel application']), (0, [...</td>\n    </tr>\n    <tr>\n      <th>6273</th>\n      <td>935</td>\n      <td>2553f5e4bdff44d69fd6899a026fa8f5</td>\n      <td>2a31a1a056bf4268bfbc4ed14e3d374b</td>\n      <td>Diego422</td>\n      <td>[['Documents reception', 'enter data into the ...</td>\n      <td>[('Documents reception', 'enter data into the ...</td>\n      <td>(places: [ 1, 10, 11, 12, 2, 3, 4, 5, 6, 7, 8,...</td>\n      <td>-&gt;( 'Documents reception', 'enter data into th...</td>\n      <td>{'request for mailing', 'print card', 'Documen...</td>\n      <td>en</td>\n      <td>{0: ['Documents reception', 'enter data into t...</td>\n      <td>{0: [], 1: [], 2: [(0, ['Reception of informat...</td>\n    </tr>\n    <tr>\n      <th>32417</th>\n      <td>767</td>\n      <td>de808733732b4edd9012ed653d333fe8</td>\n      <td>f028f77bf28945e5a13260bcc7decb5f</td>\n      <td>Holiday</td>\n      <td>[['verify remaining holiday', 'send holiday re...</td>\n      <td>[('verify remaining holiday', 'send holiday re...</td>\n      <td>(places: [ 1, 10, 2, 3, 4, 5, 6, 7, 8, 9 ]\\ntr...</td>\n      <td>-&gt;( 'verify remaining holiday', 'send holiday ...</td>\n      <td>{'verify remaining holiday', 'send holiday req...</td>\n      <td>en</td>\n      <td>{0: ['verify remaining holiday', 'send holiday...</td>\n      <td>{0: [(1, ['Confirm holiday']), (0, ['Update pl...</td>\n    </tr>\n    <tr>\n      <th>...</th>\n      <td>...</td>\n      <td>...</td>\n      <td>...</td>\n      <td>...</td>\n      <td>...</td>\n      <td>...</td>\n      <td>...</td>\n      <td>...</td>\n      <td>...</td>\n      <td>...</td>\n      <td>...</td>\n      <td>...</td>\n    </tr>\n    <tr>\n      <th>10954</th>\n      <td>364</td>\n      <td>384003432a6f45049c0837357cec03bb</td>\n      <td>5f00293bb04d4861baeeb1ecfc9c9b9e</td>\n      <td>Process test</td>\n      <td>[['Take article from storage', 'Pack Article',...</td>\n      <td>[('Take article from storage', 'Pack Article')...</td>\n      <td>(places: [ 1, 2, 3, 4 ]\\ntransitions: [ (5, 'T...</td>\n      <td>-&gt;( 'Take article from storage', 'Pack Article...</td>\n      <td>{'Send article', 'Pack Article', 'Take article...</td>\n      <td>en</td>\n      <td>{0: ['Take article from storage', 'Pack Articl...</td>\n      <td>{0: [], 1: [], 2: [(0, ['Send article', 'Pack ...</td>\n    </tr>\n    <tr>\n      <th>61</th>\n      <td>115</td>\n      <td>e8eb635e49e5479e90edf272f8f3d113</td>\n      <td>6e99d65f266642a7b31b2ae469e600cc</td>\n      <td>Drop Operation</td>\n      <td>[['Check object Properties/ Characteristics', ...</td>\n      <td>[('Check object Properties/ Characteristics', ...</td>\n      <td>(places: [ 1, 2, 3, 4, 5 ]\\ntransitions: [ (10...</td>\n      <td>-&gt;( 'Check object Properties/ Characteristics'...</td>\n      <td>{'Check object Properties/ Characteristics', '...</td>\n      <td>en</td>\n      <td>{0: ['Check object Properties/ Characteristics...</td>\n      <td>{0: [], 1: [(2, ['Show Road/ Area Exceptions']...</td>\n    </tr>\n    <tr>\n      <th>9438</th>\n      <td>309</td>\n      <td>f9007b060ef44ef48aabd0919186ae5f</td>\n      <td>cc22b1e6d68d4d9e99024f893d49869d</td>\n      <td>Kategorisierung vornehmen</td>\n      <td>[['Main Category festlegen', 'Subcategory fest...</td>\n      <td>[('Main Category festlegen', 'Subcategory fest...</td>\n      <td>(places: [ 1, 2, 3, 4, 5 ]\\ntransitions: [ (6,...</td>\n      <td>-&gt;( 'Main Category festlegen', 'Subcategory fe...</td>\n      <td>{'Main Category festlegen', 'Subcategory festl...</td>\n      <td>en</td>\n      <td>{0: ['Main Category festlegen', 'Subcategory f...</td>\n      <td>{0: [], 1: [(1, ['Main Category festlegen'])],...</td>\n    </tr>\n    <tr>\n      <th>13926</th>\n      <td>709</td>\n      <td>86697a71e2ae4808a126450a8a18b7a1</td>\n      <td>ab5a62ace49645769c0695257b160320</td>\n      <td>User and functions</td>\n      <td>[['Create terms and conditions', 'Updated term...</td>\n      <td>[('Create terms and conditions', 'Updated term...</td>\n      <td>(places: [ 1, 2, 3 ]\\ntransitions: [ (4, 'Crea...</td>\n      <td>-&gt;( 'Create terms and conditions', 'Updated te...</td>\n      <td>{'Create terms and conditions', 'Updated terms...</td>\n      <td>en</td>\n      <td>{1: ['Updated terms and conditions', 'Create t...</td>\n      <td>{0: [(2, ['Create terms and conditions'])], 1:...</td>\n    </tr>\n    <tr>\n      <th>19006</th>\n      <td>205</td>\n      <td>55c7fa6139a5455d967ec707ade91238</td>\n      <td>4468d5373cf440c6a40a5b1bf7af6b10</td>\n      <td>2a) Order printing process</td>\n      <td>[['Create list of respective orders', 'Print l...</td>\n      <td>[('Create list of respective orders', 'Print l...</td>\n      <td>(places: [ 1, 2, 3 ]\\ntransitions: [ (4, 'Crea...</td>\n      <td>-&gt;( 'Create list of respective orders', 'Print...</td>\n      <td>{'Create list of respective orders', 'Print li...</td>\n      <td>en</td>\n      <td>{0: ['Print list', 'Create list of respective ...</td>\n      <td>{0: [(0, ['Print list', 'Create list of respec...</td>\n    </tr>\n  </tbody>\n</table>\n<p>4811 rows × 12 columns</p>\n</div>"
     },
     "execution_count": 3,
     "metadata": {},
     "output_type": "execute_result"
    }
   ],
   "source": [
    "# randomly split the dataframe so that one has 10% of the rows and the other 90%\n",
    "from sklearn.model_selection import train_test_split\n",
    "\n",
    "# Set test_size to 0.1 to get 10% of the rows in the test set\n",
    "train_df, test_df = train_test_split(model_df, test_size=0.3,random_state=4)\n",
    "\n",
    "# compute how many activities in 'unique_activities' in rows of the test_df appear in the rows that are in the train_df\n",
    "all_activities_in_train = {a for l in train_df['unique_activities'].values for a in eval(l)}\n",
    "print(len(all_activities_in_train))\n",
    "all_activities_in_test = {a for l in test_df['unique_activities'].values for a in eval(l)}\n",
    "print(len(all_activities_in_test))\n",
    "print(len(all_activities_in_train.intersection(all_activities_in_test)))\n",
    "test_df"
   ]
  },
  {
   "cell_type": "code",
   "execution_count": 4,
   "id": "b5ff8473417017b2",
   "metadata": {
    "collapsed": false,
    "ExecuteTime": {
     "end_time": "2024-04-19T08:07:15.813027Z",
     "start_time": "2024-04-19T08:07:15.806686Z"
    }
   },
   "outputs": [],
   "source": [
    "# next we generate dataframe records such that rach individual trace is represented in a row\n",
    "def expand_df(df):    \n",
    "    per_trace_records = []\n",
    "    for i, row in df.iterrows():\n",
    "        noisy_traces = eval(row['noisy'])\n",
    "        labels = eval(row['labels'])\n",
    "        for tix, trace in noisy_traces.items():\n",
    "            per_trace_records.append({\n",
    "                'model_id': row['model_id'],\n",
    "                'revision_id': row['revision_id'],\n",
    "                'pt': row['pt'],\n",
    "                'trace': noisy_traces[tix],\n",
    "                'label': labels[tix],\n",
    "                'unique_activities': row['unique_activities']\n",
    "            })\n",
    "            \n",
    "    df = pd.DataFrame(per_trace_records)\n",
    "    return df"
   ]
  },
  {
   "cell_type": "code",
   "execution_count": 5,
   "id": "ba0c2ce2-e98e-4623-95dc-c87f17a6d378",
   "metadata": {
    "ExecuteTime": {
     "end_time": "2024-04-19T08:07:30.666640Z",
     "start_time": "2024-04-19T08:07:16.405822Z"
    }
   },
   "outputs": [],
   "source": [
    "train_df = expand_df(train_df)\n",
    "test_df = expand_df(test_df)"
   ]
  },
  {
   "cell_type": "code",
   "execution_count": null,
   "id": "6ac818c8-dfdc-4356-b6f8-0ad840bbc5c8",
   "metadata": {},
   "outputs": [],
   "source": [
    "test_df.to_pickle(DATA_PATH + \"eval_test_data_traces.pkl\")\n",
    "train_df.to_pickle(DATA_PATH + \"eval_train_data_traces.pkl\")"
   ]
  },
  {
   "cell_type": "code",
   "execution_count": null,
   "id": "a3631f25c6a24af5",
   "metadata": {
    "collapsed": false,
    "is_executing": true
   },
   "outputs": [],
   "source": [
    "def expand_df_per_eventually_follows_pair(df):\n",
    "    per_trace_records = []\n",
    "    for i, row in df.iterrows():\n",
    "        noisy_trace = row['trace']\n",
    "        out_of_order_anomalies = [tuple(anomaly[1]) for anomaly in row['label'] if anomaly[0]==0]\n",
    "        \n",
    "        ef_pairs = set()\n",
    "        for j in range(len(noisy_trace)-1):\n",
    "            for k in range(j+1, len(noisy_trace)):\n",
    "                ef_pairs.add((noisy_trace[j], noisy_trace[k]))\n",
    "        for pair in ef_pairs:\n",
    "            out_of_order = True if pair in out_of_order_anomalies else False\n",
    "            per_trace_records.append({\n",
    "                'model_id': row['model_id'],\n",
    "                'revision_id': row['revision_id'],\n",
    "                'pt': row['pt'],\n",
    "                'trace': noisy_trace,\n",
    "                'out_of_order': out_of_order,\n",
    "                'unique_activities': row['unique_activities'],\n",
    "                'eventually_follows': pair\n",
    "            })\n",
    "    df = pd.DataFrame(per_trace_records)\n",
    "    return df\n",
    "    "
   ]
  },
  {
   "cell_type": "code",
   "execution_count": null,
   "id": "d5bde4c3-2257-48ae-a0fb-1b0c4638b4f5",
   "metadata": {},
   "outputs": [],
   "source": [
    "train_df = expand_df_per_eventually_follows_pair(train_df)\n",
    "test_df = expand_df_per_eventually_follows_pair(test_df)"
   ]
  },
  {
   "cell_type": "code",
   "execution_count": null,
   "id": "76816741-fae7-4b51-a24d-b4b21c2fbfbf",
   "metadata": {},
   "outputs": [],
   "source": [
    "train_df['out_of_order'].value_counts()"
   ]
  },
  {
   "cell_type": "code",
   "execution_count": null,
   "id": "44c5c3694cb72ef1",
   "metadata": {
    "collapsed": false,
    "is_executing": true
   },
   "outputs": [],
   "source": [
    "test_df.to_pickle(DATA_PATH + \"eval_test_data_pairs.pkl\")"
   ]
  },
  {
   "cell_type": "code",
   "execution_count": null,
   "id": "bfd5f5f78fc50c43",
   "metadata": {
    "collapsed": false,
    "is_executing": true
   },
   "outputs": [],
   "source": [
    "train_df.to_pickle(DATA_PATH + \"eval_train_data_pairs.pkl\")"
   ]
  },
  {
   "cell_type": "code",
   "execution_count": null,
   "id": "c2ac4f36fa7fa1de",
   "metadata": {
    "collapsed": false
   },
   "outputs": [],
   "source": [
    "train_df"
   ]
  },
  {
   "cell_type": "code",
   "execution_count": null,
   "id": "c377f4d3fb727d2a",
   "metadata": {
    "collapsed": false
   },
   "outputs": [],
   "source": [
    "pair_df = pd.read_pickle(DATA_PATH + \"eval_train_data_pairs.pkl\")\n",
    "# create a train test split such that the same model_id and revision_id are not in both the train and test set\n",
    "pair_df[\"id\"] = pair_df[\"model_id\"].astype(str) + \"_\" + pair_df[\"revision_id\"].astype(str)\n",
    "model_ids = pair_df['id'].unique()\n",
    "train_ids, test_ids = train_test_split(model_ids, test_size=0.5, random_state=4)\n",
    "train_df = pair_df[pair_df['id'].isin(train_ids)]\n",
    "test_df = pair_df[pair_df['id'].isin(test_ids)]\n"
   ]
  },
  {
   "cell_type": "code",
   "outputs": [],
   "source": [],
   "metadata": {
    "collapsed": false
   },
   "id": "d16bde02b9697605"
  },
  {
   "cell_type": "code",
   "outputs": [],
   "source": [
    "train_df_pairs = pd.read_pickle(DATA_PATH + \"eval_train_data_pairs.pkl\")"
   ],
   "metadata": {
    "collapsed": false,
    "ExecuteTime": {
     "end_time": "2024-04-19T07:14:56.655413Z",
     "start_time": "2024-04-19T07:14:54.174597Z"
    }
   },
   "id": "ef9927cd04761f59",
   "execution_count": 3
  },
  {
   "cell_type": "code",
   "outputs": [
    {
     "data": {
      "text/plain": "                                 model_id                       revision_id  \\\n0        af7bdf432a7a462593d00a9b55383046  4d74e6098b2a44569340ff4861498a7b   \n1        af7bdf432a7a462593d00a9b55383046  4d74e6098b2a44569340ff4861498a7b   \n2        af7bdf432a7a462593d00a9b55383046  4d74e6098b2a44569340ff4861498a7b   \n3        af7bdf432a7a462593d00a9b55383046  4d74e6098b2a44569340ff4861498a7b   \n4        af7bdf432a7a462593d00a9b55383046  4d74e6098b2a44569340ff4861498a7b   \n...                                   ...                               ...   \n3899142  fede0316dd0e402682199310c3f5f94d  8606815f4a9c480ea93483c8cdfef427   \n3899143  fede0316dd0e402682199310c3f5f94d  8606815f4a9c480ea93483c8cdfef427   \n3899144  fede0316dd0e402682199310c3f5f94d  8606815f4a9c480ea93483c8cdfef427   \n3899145  fede0316dd0e402682199310c3f5f94d  8606815f4a9c480ea93483c8cdfef427   \n3899146  fede0316dd0e402682199310c3f5f94d  8606815f4a9c480ea93483c8cdfef427   \n\n                                                        pt  \\\n0        ->( 'Create first contract draft', X( 'Perform...   \n1        ->( 'Create first contract draft', X( 'Perform...   \n2        ->( 'Create first contract draft', X( 'Perform...   \n3        ->( 'Create first contract draft', X( 'Perform...   \n4        ->( 'Create first contract draft', X( 'Perform...   \n...                                                    ...   \n3899142  ->( 'Confirm shipment', +( ->( 'Send invoice',...   \n3899143  ->( 'Confirm shipment', +( ->( 'Send invoice',...   \n3899144  ->( 'Confirm shipment', +( ->( 'Send invoice',...   \n3899145  ->( 'Confirm shipment', +( ->( 'Send invoice',...   \n3899146  ->( 'Confirm shipment', +( ->( 'Send invoice',...   \n\n                                                     trace  out_of_order  \\\n0        [Create first contract draft, merge reviews in...         False   \n1        [Create first contract draft, merge reviews in...         False   \n2        [Create first contract draft, merge reviews in...          True   \n3        [Create first contract draft, merge reviews in...         False   \n4        [Create first contract draft, merge reviews in...         False   \n...                                                    ...           ...   \n3899142  [Confirm shipment, Paclage product, Send invoi...         False   \n3899143  [Confirm shipment, Paclage product, Send invoi...         False   \n3899144  [Confirm shipment, Paclage product, Send invoi...         False   \n3899145  [Confirm shipment, Paclage product, Send invoi...         False   \n3899146  [Confirm shipment, Paclage product, Send invoi...         False   \n\n                                         unique_activities  \\\n0        {'Perform technical review', 'Perform final re...   \n1        {'Perform technical review', 'Perform final re...   \n2        {'Perform technical review', 'Perform final re...   \n3        {'Perform technical review', 'Perform final re...   \n4        {'Perform technical review', 'Perform final re...   \n...                                                    ...   \n3899142  {'Confirm shipment', 'Receive payment', 'Send ...   \n3899143  {'Confirm shipment', 'Receive payment', 'Send ...   \n3899144  {'Confirm shipment', 'Receive payment', 'Send ...   \n3899145  {'Confirm shipment', 'Receive payment', 'Send ...   \n3899146  {'Confirm shipment', 'Receive payment', 'Send ...   \n\n                                        eventually_follows  \n0        (Create first contract draft, merge reviews in...  \n1        (merge reviews in contract draft, Perform fina...  \n2        (merge reviews in contract draft, Perform review)  \n3                   (Perform review, Perform final review)  \n4        (Create first contract draft, Perform final re...  \n...                                                    ...  \n3899142                  (Confirm shipment, Archive order)  \n3899143                  (Paclage product, Issue shipment)  \n3899144                    (Issue shipment, Archive order)  \n3899145                 (Confirm shipment, Issue shipment)  \n3899146                (Confirm shipment, Paclage product)  \n\n[3899147 rows x 7 columns]",
      "text/html": "<div>\n<style scoped>\n    .dataframe tbody tr th:only-of-type {\n        vertical-align: middle;\n    }\n\n    .dataframe tbody tr th {\n        vertical-align: top;\n    }\n\n    .dataframe thead th {\n        text-align: right;\n    }\n</style>\n<table border=\"1\" class=\"dataframe\">\n  <thead>\n    <tr style=\"text-align: right;\">\n      <th></th>\n      <th>model_id</th>\n      <th>revision_id</th>\n      <th>pt</th>\n      <th>trace</th>\n      <th>out_of_order</th>\n      <th>unique_activities</th>\n      <th>eventually_follows</th>\n    </tr>\n  </thead>\n  <tbody>\n    <tr>\n      <th>0</th>\n      <td>af7bdf432a7a462593d00a9b55383046</td>\n      <td>4d74e6098b2a44569340ff4861498a7b</td>\n      <td>-&gt;( 'Create first contract draft', X( 'Perform...</td>\n      <td>[Create first contract draft, merge reviews in...</td>\n      <td>False</td>\n      <td>{'Perform technical review', 'Perform final re...</td>\n      <td>(Create first contract draft, merge reviews in...</td>\n    </tr>\n    <tr>\n      <th>1</th>\n      <td>af7bdf432a7a462593d00a9b55383046</td>\n      <td>4d74e6098b2a44569340ff4861498a7b</td>\n      <td>-&gt;( 'Create first contract draft', X( 'Perform...</td>\n      <td>[Create first contract draft, merge reviews in...</td>\n      <td>False</td>\n      <td>{'Perform technical review', 'Perform final re...</td>\n      <td>(merge reviews in contract draft, Perform fina...</td>\n    </tr>\n    <tr>\n      <th>2</th>\n      <td>af7bdf432a7a462593d00a9b55383046</td>\n      <td>4d74e6098b2a44569340ff4861498a7b</td>\n      <td>-&gt;( 'Create first contract draft', X( 'Perform...</td>\n      <td>[Create first contract draft, merge reviews in...</td>\n      <td>True</td>\n      <td>{'Perform technical review', 'Perform final re...</td>\n      <td>(merge reviews in contract draft, Perform review)</td>\n    </tr>\n    <tr>\n      <th>3</th>\n      <td>af7bdf432a7a462593d00a9b55383046</td>\n      <td>4d74e6098b2a44569340ff4861498a7b</td>\n      <td>-&gt;( 'Create first contract draft', X( 'Perform...</td>\n      <td>[Create first contract draft, merge reviews in...</td>\n      <td>False</td>\n      <td>{'Perform technical review', 'Perform final re...</td>\n      <td>(Perform review, Perform final review)</td>\n    </tr>\n    <tr>\n      <th>4</th>\n      <td>af7bdf432a7a462593d00a9b55383046</td>\n      <td>4d74e6098b2a44569340ff4861498a7b</td>\n      <td>-&gt;( 'Create first contract draft', X( 'Perform...</td>\n      <td>[Create first contract draft, merge reviews in...</td>\n      <td>False</td>\n      <td>{'Perform technical review', 'Perform final re...</td>\n      <td>(Create first contract draft, Perform final re...</td>\n    </tr>\n    <tr>\n      <th>...</th>\n      <td>...</td>\n      <td>...</td>\n      <td>...</td>\n      <td>...</td>\n      <td>...</td>\n      <td>...</td>\n      <td>...</td>\n    </tr>\n    <tr>\n      <th>3899142</th>\n      <td>fede0316dd0e402682199310c3f5f94d</td>\n      <td>8606815f4a9c480ea93483c8cdfef427</td>\n      <td>-&gt;( 'Confirm shipment', +( -&gt;( 'Send invoice',...</td>\n      <td>[Confirm shipment, Paclage product, Send invoi...</td>\n      <td>False</td>\n      <td>{'Confirm shipment', 'Receive payment', 'Send ...</td>\n      <td>(Confirm shipment, Archive order)</td>\n    </tr>\n    <tr>\n      <th>3899143</th>\n      <td>fede0316dd0e402682199310c3f5f94d</td>\n      <td>8606815f4a9c480ea93483c8cdfef427</td>\n      <td>-&gt;( 'Confirm shipment', +( -&gt;( 'Send invoice',...</td>\n      <td>[Confirm shipment, Paclage product, Send invoi...</td>\n      <td>False</td>\n      <td>{'Confirm shipment', 'Receive payment', 'Send ...</td>\n      <td>(Paclage product, Issue shipment)</td>\n    </tr>\n    <tr>\n      <th>3899144</th>\n      <td>fede0316dd0e402682199310c3f5f94d</td>\n      <td>8606815f4a9c480ea93483c8cdfef427</td>\n      <td>-&gt;( 'Confirm shipment', +( -&gt;( 'Send invoice',...</td>\n      <td>[Confirm shipment, Paclage product, Send invoi...</td>\n      <td>False</td>\n      <td>{'Confirm shipment', 'Receive payment', 'Send ...</td>\n      <td>(Issue shipment, Archive order)</td>\n    </tr>\n    <tr>\n      <th>3899145</th>\n      <td>fede0316dd0e402682199310c3f5f94d</td>\n      <td>8606815f4a9c480ea93483c8cdfef427</td>\n      <td>-&gt;( 'Confirm shipment', +( -&gt;( 'Send invoice',...</td>\n      <td>[Confirm shipment, Paclage product, Send invoi...</td>\n      <td>False</td>\n      <td>{'Confirm shipment', 'Receive payment', 'Send ...</td>\n      <td>(Confirm shipment, Issue shipment)</td>\n    </tr>\n    <tr>\n      <th>3899146</th>\n      <td>fede0316dd0e402682199310c3f5f94d</td>\n      <td>8606815f4a9c480ea93483c8cdfef427</td>\n      <td>-&gt;( 'Confirm shipment', +( -&gt;( 'Send invoice',...</td>\n      <td>[Confirm shipment, Paclage product, Send invoi...</td>\n      <td>False</td>\n      <td>{'Confirm shipment', 'Receive payment', 'Send ...</td>\n      <td>(Confirm shipment, Paclage product)</td>\n    </tr>\n  </tbody>\n</table>\n<p>3899147 rows × 7 columns</p>\n</div>"
     },
     "execution_count": 4,
     "metadata": {},
     "output_type": "execute_result"
    }
   ],
   "source": [
    "train_df_pairs"
   ],
   "metadata": {
    "collapsed": false,
    "ExecuteTime": {
     "end_time": "2024-04-19T07:14:58.477911Z",
     "start_time": "2024-04-19T07:14:58.446602Z"
    }
   },
   "id": "713be9b20524f7f1",
   "execution_count": 4
  },
  {
   "cell_type": "code",
   "outputs": [],
   "source": [
    "train_df_pairs['out_of_order'].value_counts()"
   ],
   "metadata": {
    "collapsed": false,
    "is_executing": true
   },
   "id": "36f27cccc67d009d"
  },
  {
   "cell_type": "code",
   "outputs": [],
   "source": [],
   "metadata": {
    "collapsed": false
   },
   "id": "94327082d3301324"
  }
 ],
 "metadata": {
  "kernelspec": {
   "display_name": "Python 3 (ipykernel)",
   "language": "python",
   "name": "python3"
  },
  "language_info": {
   "codemirror_mode": {
    "name": "ipython",
    "version": 3
   },
   "file_extension": ".py",
   "mimetype": "text/x-python",
   "name": "python",
   "nbconvert_exporter": "python",
   "pygments_lexer": "ipython3",
   "version": "3.9.18"
  }
 },
 "nbformat": 4,
 "nbformat_minor": 5
}
