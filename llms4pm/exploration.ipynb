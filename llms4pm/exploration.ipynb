{
 "cells": [
  {
   "cell_type": "code",
   "execution_count": 1,
   "id": "initial_id",
   "metadata": {
    "collapsed": true,
    "ExecuteTime": {
     "end_time": "2024-04-12T08:47:50.554046Z",
     "start_time": "2024-04-12T08:47:45.685139Z"
    }
   },
   "outputs": [
    {
     "name": "stdout",
     "output_type": "stream",
     "text": [
      "16021\n"
     ]
    },
    {
     "data": {
      "text/plain": "       Unnamed: 0                          model_id  \\\n0               0  e8990a10f516495e89a1eabf9627b9e9   \n1               2  e89a9255406a491cab3bd827a043dd28   \n3               7  e89e0c0e06c440e2a006c32d1d25e3f7   \n5              11  e8a0fe270519408f9df49651977afc8e   \n6              13  e8a31cb70a6546b187326a111db648fe   \n...           ...                               ...   \n35907         823  1df4da306db045a096218b856ab871f5   \n35910         840  1e05a6468dc54035a1bc56cf17c754a0   \n35911         841  1e05dda50a7a486dae44a03c47bc5ca4   \n35912         843  1e07277a2ff0486cba1cd100be7b4a59   \n35918         859  1e0d27c5c47f486f8b90cd517bf9449d   \n\n                            revision_id                      name  \\\n0      295ab34872b6424aad0b4633abb621a9       Employee Onboarding   \n1      dcc8dbe04d4347cd88c16bb77f77c843  Checkout Tianen Jane Doe   \n3      9a249351fb0f49dca3760032b9fdaea2                       Pay   \n5      390d8410e2774873ad1f502a776a859f                Exercise 2   \n6      ae2e746b74834904bbb125067f4a4924                Handle PDF   \n...                                 ...                       ...   \n35907  59e642b936454136bb096ef2ec3c6164        verification final   \n35910  3c5e1ec0db8a40a690693c3f1788bc25           Ex 1.2 - week 5   \n35911  5252af873a7e44b7aabbf20a773446cf                Example 11   \n35912  92f009351a754acba9ae871f4a1f22c6               XOR Gateway   \n35918  ae7a74f9ae4a4b5fad9399b3dc19a97b       HighLevelModel_AsIs   \n\n                                           string_traces  \\\n0      [['Add personal data', 'Select necessary work ...   \n1      [['Scan items and Identify Payment method', 'P...   \n3      [['Fill in bank transfer Info', 'Pay', 'Receiv...   \n5      [['Statement from the witness', 'statements re...   \n6      [['Download document', 'Sign document', 'Send ...   \n...                                                  ...   \n35907  [['Perform academic verification', 'Subprocess...   \n35910  [['Verify availability', 'Calculate car rental...   \n35911  [['Simple risk assessment', 'Risk assessment '...   \n35912  [['Security Check', 'Passenger gets through Se...   \n35918  [['Create purchase request', 'Place purchase o...   \n\n                                                     dfg  \\\n0      [('Add personal data', 'Select necessary work ...   \n1      [('Scan items and Identify Payment method', 'P...   \n3      [('Fill in bank transfer Info', 'Pay'), ('Pay'...   \n5      [('Statement from the witness', 'statements re...   \n6      [('Download document', 'Sign document'), ('Sig...   \n...                                                  ...   \n35907  [('Perform academic verification', 'Subprocess...   \n35910  [('Verify availability', 'Calculate car rental...   \n35911  [('Simple risk assessment', 'Risk assessment '...   \n35912  [('Security Check', 'Passenger gets through Se...   \n35918  [('Create purchase request', 'Place purchase o...   \n\n                                                      pn  \\\n0      (places: [ 1, 2, 3, 4, 5, 6, 7, 8 ]\\ntransitio...   \n1      (places: [ 1, 2, 3, 4, 5, 6 ]\\ntransitions: [ ...   \n3      (places: [ 1, 2, 3, 4, 5, 6 ]\\ntransitions: [ ...   \n5      (places: [ 1, 2, 3 ]\\ntransitions: [ (4, 'Stat...   \n6      (places: [ 1, 2, 3, 4 ]\\ntransitions: [ (5, 'D...   \n...                                                  ...   \n35907  (places: [ 1, 2, 3, 4, 5, 6, 7 ]\\ntransitions:...   \n35910  (places: [ 1, 2, 3, 4, 5, 6, 7 ]\\ntransitions:...   \n35911  (places: [ 1, 2, 3, 4 ]\\ntransitions: [ (5, 'S...   \n35912  (places: [ 1, 2, 3, 4 ]\\ntransitions: [ (5, 'S...   \n35918  (places: [ 1, 2, 3, 4, 5 ]\\ntransitions: [ (6,...   \n\n                                                      pt  \\\n0      ->( 'Add personal data', 'Select necessary wor...   \n1      ->( 'Scan items and Identify Payment method', ...   \n3      ->( X( 'Fill in bank transfer Info', 'Fill in ...   \n5      ->( 'Statement from the witness', 'statements ...   \n6      ->( 'Download document', 'Sign document', 'Sen...   \n...                                                  ...   \n35907  ->( X( ->( 'Perform English language test veri...   \n35910  ->( 'Verify availability', X( 'Calculate hotel...   \n35911  ->( 'Simple risk assessment', 'Risk assessment...   \n35912  ->( 'Security Check', X( 'Passenger fails Secu...   \n35918  ->( 'Create purchase request', 'Place purchase...   \n\n                                       unique_activities language  \\\n0      {'Procure work equipment', 'Select necessary w...       en   \n1      {'Process credit card', 'Accept Cash', 'Scan i...       en   \n3      {'Receive Receipt', 'Pay', 'Fill in Credit Car...       en   \n5      {'statements received', 'Statement from the wi...       en   \n6      {'Download document', 'Sign document', 'Send d...       en   \n...                                                  ...      ...   \n35907  {'mark application as ready', 'Subprocess (Aca...       en   \n35910  {'Calculate hotel cost', 'Verify availability'...       en   \n35911  {'Risk assessment ', 'Simple risk assessment',...       en   \n35912  {'Passenger fails Security Check', 'Passenger ...       en   \n35918  {'Receive goods', 'Place purchase order', 'Cre...       en   \n\n                                                   noisy  \\\n0      [['Add personal data', 'Select necessary work ...   \n1      [['Process credit card', 'Scan items and Ident...   \n3      [['Fill in bank transfer Info', 'Pay'], ['Fill...   \n5      [['statements received', 'Statement from the w...   \n6      [['Send docments by post', 'Download document'...   \n...                                                  ...   \n35907  [['Subprocess (Academic transcript verificatio...   \n35910  [['Calculate car rental cost', 'Build travel p...   \n35911  [['Risk assessment ', 'Simple risk assessment'...   \n35912  [['Passenger gets through Security Check', 'Se...   \n35918  [['Place purchase order', 'Create purchase req...   \n\n                                                  labels  \n0      {0: [(1, ['Set up access rights, hardware and ...  \n1      {0: [(0, ['Process credit card', 'Scan items a...  \n3      {0: [(2, ['Receive Receipt'])], 1: [(0, ['Rece...  \n5      {0: [(0, ['statements received', 'Statement fr...  \n6      {0: [(0, ['Send docments by post', 'Sign docum...  \n...                                                  ...  \n35907  {0: [(2, ['Perform academic verification'])], ...  \n35910  {0: [(2, ['Send quote to customer']), (0, ['Bu...  \n35911  {0: [(0, ['Risk assessment ', 'Simple risk ass...  \n35912  {0: [(0, ['Passenger gets through Security Che...  \n35918  {0: [(0, ['Receive payment', 'Receive goods'])...  \n\n[16021 rows x 12 columns]",
      "text/html": "<div>\n<style scoped>\n    .dataframe tbody tr th:only-of-type {\n        vertical-align: middle;\n    }\n\n    .dataframe tbody tr th {\n        vertical-align: top;\n    }\n\n    .dataframe thead th {\n        text-align: right;\n    }\n</style>\n<table border=\"1\" class=\"dataframe\">\n  <thead>\n    <tr style=\"text-align: right;\">\n      <th></th>\n      <th>Unnamed: 0</th>\n      <th>model_id</th>\n      <th>revision_id</th>\n      <th>name</th>\n      <th>string_traces</th>\n      <th>dfg</th>\n      <th>pn</th>\n      <th>pt</th>\n      <th>unique_activities</th>\n      <th>language</th>\n      <th>noisy</th>\n      <th>labels</th>\n    </tr>\n  </thead>\n  <tbody>\n    <tr>\n      <th>0</th>\n      <td>0</td>\n      <td>e8990a10f516495e89a1eabf9627b9e9</td>\n      <td>295ab34872b6424aad0b4633abb621a9</td>\n      <td>Employee Onboarding</td>\n      <td>[['Add personal data', 'Select necessary work ...</td>\n      <td>[('Add personal data', 'Select necessary work ...</td>\n      <td>(places: [ 1, 2, 3, 4, 5, 6, 7, 8 ]\\ntransitio...</td>\n      <td>-&gt;( 'Add personal data', 'Select necessary wor...</td>\n      <td>{'Procure work equipment', 'Select necessary w...</td>\n      <td>en</td>\n      <td>[['Add personal data', 'Select necessary work ...</td>\n      <td>{0: [(1, ['Set up access rights, hardware and ...</td>\n    </tr>\n    <tr>\n      <th>1</th>\n      <td>2</td>\n      <td>e89a9255406a491cab3bd827a043dd28</td>\n      <td>dcc8dbe04d4347cd88c16bb77f77c843</td>\n      <td>Checkout Tianen Jane Doe</td>\n      <td>[['Scan items and Identify Payment method', 'P...</td>\n      <td>[('Scan items and Identify Payment method', 'P...</td>\n      <td>(places: [ 1, 2, 3, 4, 5, 6 ]\\ntransitions: [ ...</td>\n      <td>-&gt;( 'Scan items and Identify Payment method', ...</td>\n      <td>{'Process credit card', 'Accept Cash', 'Scan i...</td>\n      <td>en</td>\n      <td>[['Process credit card', 'Scan items and Ident...</td>\n      <td>{0: [(0, ['Process credit card', 'Scan items a...</td>\n    </tr>\n    <tr>\n      <th>3</th>\n      <td>7</td>\n      <td>e89e0c0e06c440e2a006c32d1d25e3f7</td>\n      <td>9a249351fb0f49dca3760032b9fdaea2</td>\n      <td>Pay</td>\n      <td>[['Fill in bank transfer Info', 'Pay', 'Receiv...</td>\n      <td>[('Fill in bank transfer Info', 'Pay'), ('Pay'...</td>\n      <td>(places: [ 1, 2, 3, 4, 5, 6 ]\\ntransitions: [ ...</td>\n      <td>-&gt;( X( 'Fill in bank transfer Info', 'Fill in ...</td>\n      <td>{'Receive Receipt', 'Pay', 'Fill in Credit Car...</td>\n      <td>en</td>\n      <td>[['Fill in bank transfer Info', 'Pay'], ['Fill...</td>\n      <td>{0: [(2, ['Receive Receipt'])], 1: [(0, ['Rece...</td>\n    </tr>\n    <tr>\n      <th>5</th>\n      <td>11</td>\n      <td>e8a0fe270519408f9df49651977afc8e</td>\n      <td>390d8410e2774873ad1f502a776a859f</td>\n      <td>Exercise 2</td>\n      <td>[['Statement from the witness', 'statements re...</td>\n      <td>[('Statement from the witness', 'statements re...</td>\n      <td>(places: [ 1, 2, 3 ]\\ntransitions: [ (4, 'Stat...</td>\n      <td>-&gt;( 'Statement from the witness', 'statements ...</td>\n      <td>{'statements received', 'Statement from the wi...</td>\n      <td>en</td>\n      <td>[['statements received', 'Statement from the w...</td>\n      <td>{0: [(0, ['statements received', 'Statement fr...</td>\n    </tr>\n    <tr>\n      <th>6</th>\n      <td>13</td>\n      <td>e8a31cb70a6546b187326a111db648fe</td>\n      <td>ae2e746b74834904bbb125067f4a4924</td>\n      <td>Handle PDF</td>\n      <td>[['Download document', 'Sign document', 'Send ...</td>\n      <td>[('Download document', 'Sign document'), ('Sig...</td>\n      <td>(places: [ 1, 2, 3, 4 ]\\ntransitions: [ (5, 'D...</td>\n      <td>-&gt;( 'Download document', 'Sign document', 'Sen...</td>\n      <td>{'Download document', 'Sign document', 'Send d...</td>\n      <td>en</td>\n      <td>[['Send docments by post', 'Download document'...</td>\n      <td>{0: [(0, ['Send docments by post', 'Sign docum...</td>\n    </tr>\n    <tr>\n      <th>...</th>\n      <td>...</td>\n      <td>...</td>\n      <td>...</td>\n      <td>...</td>\n      <td>...</td>\n      <td>...</td>\n      <td>...</td>\n      <td>...</td>\n      <td>...</td>\n      <td>...</td>\n      <td>...</td>\n      <td>...</td>\n    </tr>\n    <tr>\n      <th>35907</th>\n      <td>823</td>\n      <td>1df4da306db045a096218b856ab871f5</td>\n      <td>59e642b936454136bb096ef2ec3c6164</td>\n      <td>verification final</td>\n      <td>[['Perform academic verification', 'Subprocess...</td>\n      <td>[('Perform academic verification', 'Subprocess...</td>\n      <td>(places: [ 1, 2, 3, 4, 5, 6, 7 ]\\ntransitions:...</td>\n      <td>-&gt;( X( -&gt;( 'Perform English language test veri...</td>\n      <td>{'mark application as ready', 'Subprocess (Aca...</td>\n      <td>en</td>\n      <td>[['Subprocess (Academic transcript verificatio...</td>\n      <td>{0: [(2, ['Perform academic verification'])], ...</td>\n    </tr>\n    <tr>\n      <th>35910</th>\n      <td>840</td>\n      <td>1e05a6468dc54035a1bc56cf17c754a0</td>\n      <td>3c5e1ec0db8a40a690693c3f1788bc25</td>\n      <td>Ex 1.2 - week 5</td>\n      <td>[['Verify availability', 'Calculate car rental...</td>\n      <td>[('Verify availability', 'Calculate car rental...</td>\n      <td>(places: [ 1, 2, 3, 4, 5, 6, 7 ]\\ntransitions:...</td>\n      <td>-&gt;( 'Verify availability', X( 'Calculate hotel...</td>\n      <td>{'Calculate hotel cost', 'Verify availability'...</td>\n      <td>en</td>\n      <td>[['Calculate car rental cost', 'Build travel p...</td>\n      <td>{0: [(2, ['Send quote to customer']), (0, ['Bu...</td>\n    </tr>\n    <tr>\n      <th>35911</th>\n      <td>841</td>\n      <td>1e05dda50a7a486dae44a03c47bc5ca4</td>\n      <td>5252af873a7e44b7aabbf20a773446cf</td>\n      <td>Example 11</td>\n      <td>[['Simple risk assessment', 'Risk assessment '...</td>\n      <td>[('Simple risk assessment', 'Risk assessment '...</td>\n      <td>(places: [ 1, 2, 3, 4 ]\\ntransitions: [ (5, 'S...</td>\n      <td>-&gt;( 'Simple risk assessment', 'Risk assessment...</td>\n      <td>{'Risk assessment ', 'Simple risk assessment',...</td>\n      <td>en</td>\n      <td>[['Risk assessment ', 'Simple risk assessment'...</td>\n      <td>{0: [(0, ['Risk assessment ', 'Simple risk ass...</td>\n    </tr>\n    <tr>\n      <th>35912</th>\n      <td>843</td>\n      <td>1e07277a2ff0486cba1cd100be7b4a59</td>\n      <td>92f009351a754acba9ae871f4a1f22c6</td>\n      <td>XOR Gateway</td>\n      <td>[['Security Check', 'Passenger gets through Se...</td>\n      <td>[('Security Check', 'Passenger gets through Se...</td>\n      <td>(places: [ 1, 2, 3, 4 ]\\ntransitions: [ (5, 'S...</td>\n      <td>-&gt;( 'Security Check', X( 'Passenger fails Secu...</td>\n      <td>{'Passenger fails Security Check', 'Passenger ...</td>\n      <td>en</td>\n      <td>[['Passenger gets through Security Check', 'Se...</td>\n      <td>{0: [(0, ['Passenger gets through Security Che...</td>\n    </tr>\n    <tr>\n      <th>35918</th>\n      <td>859</td>\n      <td>1e0d27c5c47f486f8b90cd517bf9449d</td>\n      <td>ae7a74f9ae4a4b5fad9399b3dc19a97b</td>\n      <td>HighLevelModel_AsIs</td>\n      <td>[['Create purchase request', 'Place purchase o...</td>\n      <td>[('Create purchase request', 'Place purchase o...</td>\n      <td>(places: [ 1, 2, 3, 4, 5 ]\\ntransitions: [ (6,...</td>\n      <td>-&gt;( 'Create purchase request', 'Place purchase...</td>\n      <td>{'Receive goods', 'Place purchase order', 'Cre...</td>\n      <td>en</td>\n      <td>[['Place purchase order', 'Create purchase req...</td>\n      <td>{0: [(0, ['Receive payment', 'Receive goods'])...</td>\n    </tr>\n  </tbody>\n</table>\n<p>16021 rows × 12 columns</p>\n</div>"
     },
     "execution_count": 1,
     "metadata": {},
     "output_type": "execute_result"
    }
   ],
   "source": [
    "import pandas as pd\n",
    "\n",
    "DATA_PATH = \"/Users/adrianrebmann/Google Drive/corpus/\"\n",
    "model_df = pd.read_csv(DATA_PATH + \"eval_data.csv\")\n",
    "model_df = model_df[model_df[\"language\"]==\"en\"]\n",
    "model_df = model_df.drop_duplicates(subset=['unique_activities'])\n",
    "print(len(model_df))\n",
    "model_df\n"
   ]
  },
  {
   "cell_type": "code",
   "outputs": [
    {
     "name": "stdout",
     "output_type": "stream",
     "text": [
      "48667\n",
      "718\n",
      "321\n"
     ]
    }
   ],
   "source": [
    "# randomly split the dataframe so that one has 10% of the rows and the other 90%\n",
    "from sklearn.model_selection import train_test_split\n",
    "\n",
    "# Set test_size to 0.1 to get 10% of the rows in the test set\n",
    "train_df, test_df = train_test_split(model_df, test_size=0.01)\n",
    "\n",
    "# compute how many activities in 'unique_activities' in rows of the test_df appear in the rows that are in the train_df\n",
    "all_activities_in_train = {a for l in train_df['unique_activities'].values for a in eval(l)}\n",
    "print(len(all_activities_in_train))\n",
    "all_activities_in_test = {a for l in test_df['unique_activities'].values for a in eval(l)}\n",
    "print(len(all_activities_in_test))\n",
    "print(len(all_activities_in_train.intersection(all_activities_in_test)))\n"
   ],
   "metadata": {
    "collapsed": false,
    "ExecuteTime": {
     "end_time": "2024-04-12T08:48:50.554292Z",
     "start_time": "2024-04-12T08:48:45.204178Z"
    }
   },
   "id": "d81af5c30c1e6281",
   "execution_count": 2
  },
  {
   "cell_type": "code",
   "outputs": [],
   "source": [
    "model_df.to_csv(DATA_PATH + \"eval_data_sample.csv\", index=False)"
   ],
   "metadata": {
    "collapsed": false,
    "ExecuteTime": {
     "end_time": "2024-04-12T08:49:01.099183Z",
     "start_time": "2024-04-12T08:48:57.704726Z"
    }
   },
   "id": "44c5c3694cb72ef1",
   "execution_count": 3
  },
  {
   "cell_type": "code",
   "outputs": [],
   "source": [],
   "metadata": {
    "collapsed": false
   },
   "id": "bfd5f5f78fc50c43"
  }
 ],
 "metadata": {
  "kernelspec": {
   "display_name": "Python 3",
   "language": "python",
   "name": "python3"
  },
  "language_info": {
   "codemirror_mode": {
    "name": "ipython",
    "version": 2
   },
   "file_extension": ".py",
   "mimetype": "text/x-python",
   "name": "python",
   "nbconvert_exporter": "python",
   "pygments_lexer": "ipython2",
   "version": "2.7.6"
  }
 },
 "nbformat": 4,
 "nbformat_minor": 5
}
